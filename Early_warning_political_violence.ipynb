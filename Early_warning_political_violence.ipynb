{
  "nbformat": 4,
  "nbformat_minor": 0,
  "metadata": {
    "colab": {
      "name": "Early_warning_political_violence.ipynb",
      "provenance": [],
      "collapsed_sections": []
    },
    "kernelspec": {
      "name": "python3",
      "display_name": "Python 3"
    },
    "accelerator": "GPU"
  },
  "cells": [
    {
      "cell_type": "code",
      "metadata": {
        "id": "bmwTgex1_1rt"
      },
      "source": [
        "datapath=\"/content/conflict_data_bgd.csv\"\n",
        "import pandas as pd\n",
        "import numpy as np\n",
        "import matplotlib.pyplot as plt\n",
        "import seaborn as sns"
      ],
      "execution_count": 1,
      "outputs": []
    },
    {
      "cell_type": "code",
      "metadata": {
        "id": "beYA1Wg67RIp"
      },
      "source": [
        ""
      ],
      "execution_count": 1,
      "outputs": []
    },
    {
      "cell_type": "code",
      "metadata": {
        "colab": {
          "base_uri": "https://localhost:8080/"
        },
        "id": "IIlb3uDdByWg",
        "outputId": "3c1fcce7-8122-4e55-e09c-215850d9a9bb"
      },
      "source": [
        "\n",
        "df=pd.read_csv(datapath)\n",
        "#df.iloc[1:100,7:15]\n",
        "df.columns"
      ],
      "execution_count": 2,
      "outputs": [
        {
          "output_type": "execute_result",
          "data": {
            "text/plain": [
              "Index(['data_id', 'iso', 'event_id_cnty', 'event_id_no_cnty', 'event_date',\n",
              "       'year', 'time_precision', 'event_type', 'sub_event_type', 'actor1',\n",
              "       'assoc_actor_1', 'inter1', 'actor2', 'assoc_actor_2', 'inter2',\n",
              "       'interaction', 'region', 'country', 'admin1', 'admin2', 'admin3',\n",
              "       'location', 'latitude', 'longitude', 'geo_precision', 'source',\n",
              "       'source_scale', 'notes', 'fatalities', 'timestamp', 'iso3'],\n",
              "      dtype='object')"
            ]
          },
          "metadata": {
            "tags": []
          },
          "execution_count": 2
        }
      ]
    },
    {
      "cell_type": "code",
      "metadata": {
        "id": "2wdpQTYcFqq5"
      },
      "source": [
        "df=df.drop([0],axis=0)"
      ],
      "execution_count": 3,
      "outputs": []
    },
    {
      "cell_type": "code",
      "metadata": {
        "colab": {
          "base_uri": "https://localhost:8080/",
          "height": 336
        },
        "id": "Bc9eQTcdJhca",
        "outputId": "b07e2048-db41-4f06-f805-58f55b40a2da"
      },
      "source": [
        "s=df['event_type'].value_counts()\n",
        "sns.barplot(s.index,s.values,alpha=0.9)"
      ],
      "execution_count": 4,
      "outputs": [
        {
          "output_type": "stream",
          "text": [
            "/usr/local/lib/python3.6/dist-packages/seaborn/_decorators.py:43: FutureWarning: Pass the following variables as keyword args: x, y. From version 0.12, the only valid positional argument will be `data`, and passing other arguments without an explicit keyword will result in an error or misinterpretation.\n",
            "  FutureWarning\n"
          ],
          "name": "stderr"
        },
        {
          "output_type": "execute_result",
          "data": {
            "text/plain": [
              "<matplotlib.axes._subplots.AxesSubplot at 0x7f68f5e42588>"
            ]
          },
          "metadata": {
            "tags": []
          },
          "execution_count": 4
        },
        {
          "output_type": "display_data",
          "data": {
            "image/png": "[encoded data removed]",
            "text/plain": [
              "<Figure size 432x288 with 1 Axes>"
            ]
          },
          "metadata": {
            "tags": [],
            "needs_background": "light"
          }
        }
      ]
    },
    {
      "cell_type": "code",
      "metadata": {
        "colab": {
          "base_uri": "https://localhost:8080/"
        },
        "id": "BUX4LRy4KtbC",
        "outputId": "130934f7-44af-4615-9730-e533b4f35f1f"
      },
      "source": [
        "df['event_type'].value_counts()"
      ],
      "execution_count": 5,
      "outputs": [
        {
          "output_type": "execute_result",
          "data": {
            "text/plain": [
              "Riots                         7847\n",
              "Protests                      5223\n",
              "Violence against civilians    2834\n",
              "Battles                       1759\n",
              "Strategic developments         256\n",
              "Explosions/Remote violence     217\n",
              "Name: event_type, dtype: int64"
            ]
          },
          "metadata": {
            "tags": []
          },
          "execution_count": 5
        }
      ]
    },
    {
      "cell_type": "code",
      "metadata": {
        "id": "1V9SAejaGGPm"
      },
      "source": [
        "df['event_date']=pd.to_datetime(df['event_date'])"
      ],
      "execution_count": 6,
      "outputs": []
    },
    {
      "cell_type": "code",
      "metadata": {
        "id": "QDfFFIV7D3ml"
      },
      "source": [
        "df2=df[['event_date','year','event_type','sub_event_type','actor1',\n",
        "       'assoc_actor_1','actor2', 'assoc_actor_2','admin1', 'admin2', 'admin3',\n",
        "       'location','notes', 'fatalities']]"
      ],
      "execution_count": 7,
      "outputs": []
    },
    {
      "cell_type": "code",
      "metadata": {
        "colab": {
          "base_uri": "https://localhost:8080/",
          "height": 374
        },
        "id": "yNeZa5MCD91E",
        "outputId": "562ba77e-c45b-47a3-adca-34172f51a0f1"
      },
      "source": [
        "df2.head()"
      ],
      "execution_count": 8,
      "outputs": [
        {
          "output_type": "execute_result",
          "data": {
            "text/html": [
              "<div>\n",
              "<style scoped>\n",
              "    .dataframe tbody tr th:only-of-type {\n",
              "        vertical-align: middle;\n",
              "    }\n",
              "\n",
              "    .dataframe tbody tr th {\n",
              "        vertical-align: top;\n",
              "    }\n",
              "\n",
              "    .dataframe thead th {\n",
              "        text-align: right;\n",
              "    }\n",
              "</style>\n",
              "<table border=\"1\" class=\"dataframe\">\n",
              "  <thead>\n",
              "    <tr style=\"text-align: right;\">\n",
              "      <th></th>\n",
              "      <th>event_date</th>\n",
              "      <th>year</th>\n",
              "      <th>event_type</th>\n",
              "      <th>sub_event_type</th>\n",
              "      <th>actor1</th>\n",
              "      <th>assoc_actor_1</th>\n",
              "      <th>actor2</th>\n",
              "      <th>assoc_actor_2</th>\n",
              "      <th>admin1</th>\n",
              "      <th>admin2</th>\n",
              "      <th>admin3</th>\n",
              "      <th>location</th>\n",
              "      <th>notes</th>\n",
              "      <th>fatalities</th>\n",
              "    </tr>\n",
              "  </thead>\n",
              "  <tbody>\n",
              "    <tr>\n",
              "      <th>1</th>\n",
              "      <td>2020-11-14</td>\n",
              "      <td>2020</td>\n",
              "      <td>Protests</td>\n",
              "      <td>Peaceful protest</td>\n",
              "      <td>Protesters (Bangladesh)</td>\n",
              "      <td>JSD: Jatiya Samajtantrik Dal</td>\n",
              "      <td>NaN</td>\n",
              "      <td>NaN</td>\n",
              "      <td>Dhaka</td>\n",
              "      <td>Dhaka</td>\n",
              "      <td>Dhaka</td>\n",
              "      <td>Dhaka</td>\n",
              "      <td>On 14 November 2020, members of Jatiya Samajta...</td>\n",
              "      <td>0</td>\n",
              "    </tr>\n",
              "    <tr>\n",
              "      <th>2</th>\n",
              "      <td>2020-11-14</td>\n",
              "      <td>2020</td>\n",
              "      <td>Riots</td>\n",
              "      <td>Mob violence</td>\n",
              "      <td>Rioters (Bangladesh)</td>\n",
              "      <td>Vigilante Group (Bangladesh)</td>\n",
              "      <td>Police Forces of Bangladesh (2009-)</td>\n",
              "      <td>NaN</td>\n",
              "      <td>Dhaka</td>\n",
              "      <td>Narayanganj</td>\n",
              "      <td>Narayanganj</td>\n",
              "      <td>Siddhirganj</td>\n",
              "      <td>On 14 November 2020, a group of 30 to 40 local...</td>\n",
              "      <td>0</td>\n",
              "    </tr>\n",
              "    <tr>\n",
              "      <th>3</th>\n",
              "      <td>2020-11-14</td>\n",
              "      <td>2020</td>\n",
              "      <td>Riots</td>\n",
              "      <td>Mob violence</td>\n",
              "      <td>Rioters (Bangladesh)</td>\n",
              "      <td>AL: Bangladesh Awami League</td>\n",
              "      <td>Rioters (Bangladesh)</td>\n",
              "      <td>AL: Bangladesh Awami League</td>\n",
              "      <td>Khulna</td>\n",
              "      <td>Bagerhat</td>\n",
              "      <td>Bagerhat</td>\n",
              "      <td>Bagerhat</td>\n",
              "      <td>On 14 November 2020, two factions Awami League...</td>\n",
              "      <td>0</td>\n",
              "    </tr>\n",
              "    <tr>\n",
              "      <th>4</th>\n",
              "      <td>2020-11-14</td>\n",
              "      <td>2020</td>\n",
              "      <td>Strategic developments</td>\n",
              "      <td>Arrests</td>\n",
              "      <td>Police Forces of Bangladesh (2009-)</td>\n",
              "      <td>NaN</td>\n",
              "      <td>JeI: Jamaat-e-Islami</td>\n",
              "      <td>NaN</td>\n",
              "      <td>Khulna</td>\n",
              "      <td>Kushtia</td>\n",
              "      <td>Kushtia</td>\n",
              "      <td>Jhaudia</td>\n",
              "      <td>Arrests: On 14 November 2020, police arrested ...</td>\n",
              "      <td>0</td>\n",
              "    </tr>\n",
              "    <tr>\n",
              "      <th>5</th>\n",
              "      <td>2020-11-13</td>\n",
              "      <td>2020</td>\n",
              "      <td>Protests</td>\n",
              "      <td>Peaceful protest</td>\n",
              "      <td>Protesters (Bangladesh)</td>\n",
              "      <td>Hindu Group (Bangladesh)</td>\n",
              "      <td>NaN</td>\n",
              "      <td>NaN</td>\n",
              "      <td>Dhaka</td>\n",
              "      <td>Dhaka</td>\n",
              "      <td>Dhaka</td>\n",
              "      <td>Dhaka-Paltan</td>\n",
              "      <td>On 13 November 2020, members of Bangladesh Jat...</td>\n",
              "      <td>0</td>\n",
              "    </tr>\n",
              "  </tbody>\n",
              "</table>\n",
              "</div>"
            ],
            "text/plain": [
              "  event_date  ... fatalities\n",
              "1 2020-11-14  ...          0\n",
              "2 2020-11-14  ...          0\n",
              "3 2020-11-14  ...          0\n",
              "4 2020-11-14  ...          0\n",
              "5 2020-11-13  ...          0\n",
              "\n",
              "[5 rows x 14 columns]"
            ]
          },
          "metadata": {
            "tags": []
          },
          "execution_count": 8
        }
      ]
    },
    {
      "cell_type": "code",
      "metadata": {
        "colab": {
          "base_uri": "https://localhost:8080/"
        },
        "id": "zBjNVc9zEBG5",
        "outputId": "0594e47e-9f75-4cb3-c3dc-93440c0417c7"
      },
      "source": [
        "df2[\"violence\"]=np.nan"
      ],
      "execution_count": 9,
      "outputs": [
        {
          "output_type": "stream",
          "text": [
            "/usr/local/lib/python3.6/dist-packages/ipykernel_launcher.py:1: SettingWithCopyWarning: \n",
            "A value is trying to be set on a copy of a slice from a DataFrame.\n",
            "Try using .loc[row_indexer,col_indexer] = value instead\n",
            "\n",
            "See the caveats in the documentation: https://pandas.pydata.org/pandas-docs/stable/user_guide/indexing.html#returning-a-view-versus-a-copy\n",
            "  \"\"\"Entry point for launching an IPython kernel.\n"
          ],
          "name": "stderr"
        }
      ]
    },
    {
      "cell_type": "code",
      "metadata": {
        "colab": {
          "base_uri": "https://localhost:8080/"
        },
        "id": "bT3TOMu2EF3X",
        "outputId": "0f262fa8-888e-450a-da69-dd0eb0a43063"
      },
      "source": [
        "df2.columns"
      ],
      "execution_count": 10,
      "outputs": [
        {
          "output_type": "execute_result",
          "data": {
            "text/plain": [
              "Index(['event_date', 'year', 'event_type', 'sub_event_type', 'actor1',\n",
              "       'assoc_actor_1', 'actor2', 'assoc_actor_2', 'admin1', 'admin2',\n",
              "       'admin3', 'location', 'notes', 'fatalities', 'violence'],\n",
              "      dtype='object')"
            ]
          },
          "metadata": {
            "tags": []
          },
          "execution_count": 10
        }
      ]
    },
    {
      "cell_type": "code",
      "metadata": {
        "colab": {
          "base_uri": "https://localhost:8080/"
        },
        "id": "9IEISeTxEN6l",
        "outputId": "05feed2a-93c9-4a52-c378-80786bd5a094"
      },
      "source": [
        "for i in df2.index:\n",
        "    if 'injured' in df2['notes'][i]:\n",
        "        df2['violence'][i]=1.0\n",
        "    \n",
        "        #print(df2['violence'][i])\n",
        "        #print('success')\n",
        "       \n",
        "    else:\n",
        "        df2['violence'][i]=0.0\n",
        "        #print(df2['violence'][i])\n",
        "        #print('okay')\n",
        "    "
      ],
      "execution_count": 11,
      "outputs": [
        {
          "output_type": "stream",
          "text": [
            "/usr/local/lib/python3.6/dist-packages/ipykernel_launcher.py:9: SettingWithCopyWarning: \n",
            "A value is trying to be set on a copy of a slice from a DataFrame\n",
            "\n",
            "See the caveats in the documentation: https://pandas.pydata.org/pandas-docs/stable/user_guide/indexing.html#returning-a-view-versus-a-copy\n",
            "  if __name__ == '__main__':\n",
            "/usr/local/lib/python3.6/dist-packages/IPython/core/interactiveshell.py:2882: SettingWithCopyWarning: \n",
            "A value is trying to be set on a copy of a slice from a DataFrame\n",
            "\n",
            "See the caveats in the documentation: https://pandas.pydata.org/pandas-docs/stable/user_guide/indexing.html#returning-a-view-versus-a-copy\n",
            "  exec(code_obj, self.user_global_ns, self.user_ns)\n",
            "/usr/local/lib/python3.6/dist-packages/ipykernel_launcher.py:3: SettingWithCopyWarning: \n",
            "A value is trying to be set on a copy of a slice from a DataFrame\n",
            "\n",
            "See the caveats in the documentation: https://pandas.pydata.org/pandas-docs/stable/user_guide/indexing.html#returning-a-view-versus-a-copy\n",
            "  This is separate from the ipykernel package so we can avoid doing imports until\n"
          ],
          "name": "stderr"
        }
      ]
    },
    {
      "cell_type": "code",
      "metadata": {
        "colab": {
          "base_uri": "https://localhost:8080/"
        },
        "id": "rc9aLbQDEj5L",
        "outputId": "811fffd6-ad49-453d-89a5-e6726e61548c"
      },
      "source": [
        "df2['violence'].value_counts()"
      ],
      "execution_count": 12,
      "outputs": [
        {
          "output_type": "execute_result",
          "data": {
            "text/plain": [
              "0.0    11909\n",
              "1.0     6227\n",
              "Name: violence, dtype: int64"
            ]
          },
          "metadata": {
            "tags": []
          },
          "execution_count": 12
        }
      ]
    },
    {
      "cell_type": "code",
      "metadata": {
        "colab": {
          "base_uri": "https://localhost:8080/"
        },
        "id": "2vB5I-AjEmRi",
        "outputId": "423e5de3-b30c-40ef-acf0-d2fb90d1d369"
      },
      "source": [
        "\n",
        "show=df2['admin1'].value_counts()\n",
        "print(show['Dhaka'])\n",
        "#plt.show()\n",
        "#df2=df2.drop([0],axis=0)\n",
        "#df2.head()\n",
        "\n",
        "#sns.countplot(x='location',data=df2,dodge=False)\n",
        "#sns.countplot(x='actor1',data=df2,dodge=False)\n",
        "df2.columns"
      ],
      "execution_count": 13,
      "outputs": [
        {
          "output_type": "stream",
          "text": [
            "6130\n"
          ],
          "name": "stdout"
        },
        {
          "output_type": "execute_result",
          "data": {
            "text/plain": [
              "Index(['event_date', 'year', 'event_type', 'sub_event_type', 'actor1',\n",
              "       'assoc_actor_1', 'actor2', 'assoc_actor_2', 'admin1', 'admin2',\n",
              "       'admin3', 'location', 'notes', 'fatalities', 'violence'],\n",
              "      dtype='object')"
            ]
          },
          "metadata": {
            "tags": []
          },
          "execution_count": 13
        }
      ]
    },
    {
      "cell_type": "code",
      "metadata": {
        "id": "03QwZn0Vbnog"
      },
      "source": [
        "cdf=df2.copy()\n"
      ],
      "execution_count": 14,
      "outputs": []
    },
    {
      "cell_type": "code",
      "metadata": {
        "colab": {
          "base_uri": "https://localhost:8080/",
          "height": 510
        },
        "id": "Fpqxa1Nabylc",
        "outputId": "98d5e267-118f-4dac-c5f8-49e4687fe022"
      },
      "source": [
        "cdf.head()"
      ],
      "execution_count": 15,
      "outputs": [
        {
          "output_type": "execute_result",
          "data": {
            "text/html": [
              "<div>\n",
              "<style scoped>\n",
              "    .dataframe tbody tr th:only-of-type {\n",
              "        vertical-align: middle;\n",
              "    }\n",
              "\n",
              "    .dataframe tbody tr th {\n",
              "        vertical-align: top;\n",
              "    }\n",
              "\n",
              "    .dataframe thead th {\n",
              "        text-align: right;\n",
              "    }\n",
              "</style>\n",
              "<table border=\"1\" class=\"dataframe\">\n",
              "  <thead>\n",
              "    <tr style=\"text-align: right;\">\n",
              "      <th></th>\n",
              "      <th>event_date</th>\n",
              "      <th>year</th>\n",
              "      <th>event_type</th>\n",
              "      <th>sub_event_type</th>\n",
              "      <th>actor1</th>\n",
              "      <th>assoc_actor_1</th>\n",
              "      <th>actor2</th>\n",
              "      <th>assoc_actor_2</th>\n",
              "      <th>admin1</th>\n",
              "      <th>admin2</th>\n",
              "      <th>admin3</th>\n",
              "      <th>location</th>\n",
              "      <th>notes</th>\n",
              "      <th>fatalities</th>\n",
              "      <th>violence</th>\n",
              "    </tr>\n",
              "  </thead>\n",
              "  <tbody>\n",
              "    <tr>\n",
              "      <th>1</th>\n",
              "      <td>2020-11-14</td>\n",
              "      <td>2020</td>\n",
              "      <td>Protests</td>\n",
              "      <td>Peaceful protest</td>\n",
              "      <td>Protesters (Bangladesh)</td>\n",
              "      <td>JSD: Jatiya Samajtantrik Dal</td>\n",
              "      <td>NaN</td>\n",
              "      <td>NaN</td>\n",
              "      <td>Dhaka</td>\n",
              "      <td>Dhaka</td>\n",
              "      <td>Dhaka</td>\n",
              "      <td>Dhaka</td>\n",
              "      <td>On 14 November 2020, members of Jatiya Samajta...</td>\n",
              "      <td>0</td>\n",
              "      <td>0.0</td>\n",
              "    </tr>\n",
              "    <tr>\n",
              "      <th>2</th>\n",
              "      <td>2020-11-14</td>\n",
              "      <td>2020</td>\n",
              "      <td>Riots</td>\n",
              "      <td>Mob violence</td>\n",
              "      <td>Rioters (Bangladesh)</td>\n",
              "      <td>Vigilante Group (Bangladesh)</td>\n",
              "      <td>Police Forces of Bangladesh (2009-)</td>\n",
              "      <td>NaN</td>\n",
              "      <td>Dhaka</td>\n",
              "      <td>Narayanganj</td>\n",
              "      <td>Narayanganj</td>\n",
              "      <td>Siddhirganj</td>\n",
              "      <td>On 14 November 2020, a group of 30 to 40 local...</td>\n",
              "      <td>0</td>\n",
              "      <td>0.0</td>\n",
              "    </tr>\n",
              "    <tr>\n",
              "      <th>3</th>\n",
              "      <td>2020-11-14</td>\n",
              "      <td>2020</td>\n",
              "      <td>Riots</td>\n",
              "      <td>Mob violence</td>\n",
              "      <td>Rioters (Bangladesh)</td>\n",
              "      <td>AL: Bangladesh Awami League</td>\n",
              "      <td>Rioters (Bangladesh)</td>\n",
              "      <td>AL: Bangladesh Awami League</td>\n",
              "      <td>Khulna</td>\n",
              "      <td>Bagerhat</td>\n",
              "      <td>Bagerhat</td>\n",
              "      <td>Bagerhat</td>\n",
              "      <td>On 14 November 2020, two factions Awami League...</td>\n",
              "      <td>0</td>\n",
              "      <td>1.0</td>\n",
              "    </tr>\n",
              "    <tr>\n",
              "      <th>4</th>\n",
              "      <td>2020-11-14</td>\n",
              "      <td>2020</td>\n",
              "      <td>Strategic developments</td>\n",
              "      <td>Arrests</td>\n",
              "      <td>Police Forces of Bangladesh (2009-)</td>\n",
              "      <td>NaN</td>\n",
              "      <td>JeI: Jamaat-e-Islami</td>\n",
              "      <td>NaN</td>\n",
              "      <td>Khulna</td>\n",
              "      <td>Kushtia</td>\n",
              "      <td>Kushtia</td>\n",
              "      <td>Jhaudia</td>\n",
              "      <td>Arrests: On 14 November 2020, police arrested ...</td>\n",
              "      <td>0</td>\n",
              "      <td>0.0</td>\n",
              "    </tr>\n",
              "    <tr>\n",
              "      <th>5</th>\n",
              "      <td>2020-11-13</td>\n",
              "      <td>2020</td>\n",
              "      <td>Protests</td>\n",
              "      <td>Peaceful protest</td>\n",
              "      <td>Protesters (Bangladesh)</td>\n",
              "      <td>Hindu Group (Bangladesh)</td>\n",
              "      <td>NaN</td>\n",
              "      <td>NaN</td>\n",
              "      <td>Dhaka</td>\n",
              "      <td>Dhaka</td>\n",
              "      <td>Dhaka</td>\n",
              "      <td>Dhaka-Paltan</td>\n",
              "      <td>On 13 November 2020, members of Bangladesh Jat...</td>\n",
              "      <td>0</td>\n",
              "      <td>0.0</td>\n",
              "    </tr>\n",
              "  </tbody>\n",
              "</table>\n",
              "</div>"
            ],
            "text/plain": [
              "  event_date  year  ... fatalities violence\n",
              "1 2020-11-14  2020  ...          0      0.0\n",
              "2 2020-11-14  2020  ...          0      0.0\n",
              "3 2020-11-14  2020  ...          0      1.0\n",
              "4 2020-11-14  2020  ...          0      0.0\n",
              "5 2020-11-13  2020  ...          0      0.0\n",
              "\n",
              "[5 rows x 15 columns]"
            ]
          },
          "metadata": {
            "tags": []
          },
          "execution_count": 15
        }
      ]
    },
    {
      "cell_type": "code",
      "metadata": {
        "id": "fs0towV1b3T5"
      },
      "source": [
        "threshold = 50 # Anything that occurs less than this will be removed.\n",
        "for col in cdf.columns:\n",
        "  #print(col)\n",
        "  if col=='assoc_actor_1':\n",
        "    \n",
        "    value_counts = cdf[col].value_counts() # Specific column \n",
        "    to_remove = value_counts[value_counts <= threshold].index\n",
        "    cdf[col].replace(to_remove, np.nan, inplace=True)\n"
      ],
      "execution_count": 16,
      "outputs": []
    },
    {
      "cell_type": "code",
      "metadata": {
        "colab": {
          "base_uri": "https://localhost:8080/"
        },
        "id": "l45Tqr-ub32c",
        "outputId": "e10e8ed0-9f4f-49ce-9570-8dd4f49e287b"
      },
      "source": [
        "cdf['assoc_actor_2'].value_counts()"
      ],
      "execution_count": 17,
      "outputs": [
        {
          "output_type": "execute_result",
          "data": {
            "text/plain": [
              "AL: Bangladesh Awami League                              878\n",
              "BNP: Bangladesh Nationalist Party                        656\n",
              "BCL: Bangladesh Chhatra League; Students (Bangladesh)    556\n",
              "Labour Group (Bangladesh)                                339\n",
              "Jubo League                                              312\n",
              "                                                        ... \n",
              "Kawkhali Ethnic Group (Bangladesh)                         1\n",
              "Journalists (Bangladesh); Labour Group (Bangladesh)        1\n",
              "Bhakurta Communal Group (Bangladesh)                       1\n",
              "Bhagirath Machhari Communal Group (Bangladesh)             1\n",
              "Char Sherpur Communal Group (Bangladesh)                   1\n",
              "Name: assoc_actor_2, Length: 977, dtype: int64"
            ]
          },
          "metadata": {
            "tags": []
          },
          "execution_count": 17
        }
      ]
    },
    {
      "cell_type": "code",
      "metadata": {
        "id": "1-9SN-W5v9uI"
      },
      "source": [
        "threshold = 50 # Anything that occurs less than this will be removed.\n",
        "for col in cdf.columns:\n",
        "  #print(col)\n",
        "  if col=='assoc_actor_2':\n",
        "    \n",
        "    value_counts = cdf[col].value_counts() # Specific column \n",
        "    to_remove = value_counts[value_counts <= threshold].index\n",
        "    cdf[col].replace(to_remove, np.nan, inplace=True)\n"
      ],
      "execution_count": 18,
      "outputs": []
    },
    {
      "cell_type": "code",
      "metadata": {
        "id": "BusM49FVwwN5"
      },
      "source": [
        "#cdf=cdf.drop([0])"
      ],
      "execution_count": 19,
      "outputs": []
    },
    {
      "cell_type": "code",
      "metadata": {
        "colab": {
          "base_uri": "https://localhost:8080/"
        },
        "id": "9U-WZjaos3jd",
        "outputId": "bc65b8f6-9f65-4a6a-ea04-2e8bfec0e983"
      },
      "source": [
        "cdf.columns"
      ],
      "execution_count": 20,
      "outputs": [
        {
          "output_type": "execute_result",
          "data": {
            "text/plain": [
              "Index(['event_date', 'year', 'event_type', 'sub_event_type', 'actor1',\n",
              "       'assoc_actor_1', 'actor2', 'assoc_actor_2', 'admin1', 'admin2',\n",
              "       'admin3', 'location', 'notes', 'fatalities', 'violence'],\n",
              "      dtype='object')"
            ]
          },
          "metadata": {
            "tags": []
          },
          "execution_count": 20
        }
      ]
    },
    {
      "cell_type": "code",
      "metadata": {
        "colab": {
          "base_uri": "https://localhost:8080/"
        },
        "id": "T42iVflKnTJE",
        "outputId": "16bb2568-7610-41d1-fa2f-1d546b7b222d"
      },
      "source": [
        "print(cdf['assoc_actor_1'].notnull().sum())"
      ],
      "execution_count": 21,
      "outputs": [
        {
          "output_type": "stream",
          "text": [
            "9049\n"
          ],
          "name": "stdout"
        }
      ]
    },
    {
      "cell_type": "code",
      "metadata": {
        "colab": {
          "base_uri": "https://localhost:8080/"
        },
        "id": "bPEZW7450LAv",
        "outputId": "f24f1343-556c-404e-f05b-013e779c637d"
      },
      "source": [
        "cdf.columns"
      ],
      "execution_count": 22,
      "outputs": [
        {
          "output_type": "execute_result",
          "data": {
            "text/plain": [
              "Index(['event_date', 'year', 'event_type', 'sub_event_type', 'actor1',\n",
              "       'assoc_actor_1', 'actor2', 'assoc_actor_2', 'admin1', 'admin2',\n",
              "       'admin3', 'location', 'notes', 'fatalities', 'violence'],\n",
              "      dtype='object')"
            ]
          },
          "metadata": {
            "tags": []
          },
          "execution_count": 22
        }
      ]
    },
    {
      "cell_type": "code",
      "metadata": {
        "id": "5dqAwvNM0ZVh"
      },
      "source": [
        "cdf['event_date']=pd.to_datetime(cdf['event_date'])"
      ],
      "execution_count": 23,
      "outputs": []
    },
    {
      "cell_type": "code",
      "metadata": {
        "id": "ITAgWPtlMKCS"
      },
      "source": [
        "cdf['month']=cdf['event_date'].dt.month"
      ],
      "execution_count": 24,
      "outputs": []
    },
    {
      "cell_type": "code",
      "metadata": {
        "id": "91oOHDU4ND3E"
      },
      "source": [
        "cdf=cdf.drop(['event_date'],axis=1)"
      ],
      "execution_count": 25,
      "outputs": []
    },
    {
      "cell_type": "code",
      "metadata": {
        "colab": {
          "base_uri": "https://localhost:8080/"
        },
        "id": "I-pQU3XYSGtM",
        "outputId": "a5709b1a-2a72-431d-f989-788e364ef718"
      },
      "source": [
        "cdf['actor2'].value_counts()"
      ],
      "execution_count": 26,
      "outputs": [
        {
          "output_type": "execute_result",
          "data": {
            "text/plain": [
              "Civilians (Bangladesh)                       5085\n",
              "Police Forces of Bangladesh (2009-)          3068\n",
              "Rioters (Bangladesh)                         2533\n",
              "AL: Bangladesh Awami League                   222\n",
              "BCL: Bangladesh Chhatra League                177\n",
              "                                             ... \n",
              "Paschimgaon Communal Militia (Bangladesh)       1\n",
              "Akbarpur Communal Militia (Bangladesh)          1\n",
              "Ashutiapara Communal Militia (Bangladesh)       1\n",
              "Tanmonipara Communal Militia (Bangladesh)       1\n",
              "Singarkul Communal Militia (Bangladesh)         1\n",
              "Name: actor2, Length: 539, dtype: int64"
            ]
          },
          "metadata": {
            "tags": []
          },
          "execution_count": 26
        }
      ]
    },
    {
      "cell_type": "markdown",
      "metadata": {
        "id": "TwhK_GruSHG8"
      },
      "source": [
        "FEATURE ENGINEERING\n"
      ]
    },
    {
      "cell_type": "markdown",
      "metadata": {
        "id": "LLP91H8kkdL4"
      },
      "source": [
        "Frequency encoding"
      ]
    },
    {
      "cell_type": "code",
      "metadata": {
        "id": "v27JauYiNtTI"
      },
      "source": [
        "count_map_assoc1=cdf.assoc_actor_1.value_counts().to_dict()\n",
        "count_map_assoc2=cdf.assoc_actor_2.value_counts().to_dict()\n",
        "count_admin_2=cdf.admin2.value_counts().to_dict()\n",
        "count_sub_event=cdf.sub_event_type.value_counts().to_dict()\n",
        "#print(count_map_assoc1)\n",
        "cdf.assoc_actor_1=cdf.assoc_actor_1.map(count_map_assoc1)\n",
        "cdf.assoc_actor_2=cdf.assoc_actor_2.map(count_map_assoc2)\n",
        "cdf.admin2=cdf.admin2.map(count_admin_2)\n",
        "cdf.sub_event_type=cdf.sub_event_type.map(count_sub_event)\n"
      ],
      "execution_count": 27,
      "outputs": []
    },
    {
      "cell_type": "code",
      "metadata": {
        "id": "nuOTo5Xlqf18"
      },
      "source": [
        ""
      ],
      "execution_count": null,
      "outputs": []
    },
    {
      "cell_type": "code",
      "metadata": {
        "id": "0Ew_3KjHqB7j"
      },
      "source": [
        ""
      ],
      "execution_count": null,
      "outputs": []
    },
    {
      "cell_type": "code",
      "metadata": {
        "id": "I2gmOp0muVjC"
      },
      "source": [
        ""
      ],
      "execution_count": null,
      "outputs": []
    },
    {
      "cell_type": "code",
      "metadata": {
        "colab": {
          "base_uri": "https://localhost:8080/",
          "height": 374
        },
        "id": "S5RNYPyQqwT1",
        "outputId": "a5b292a5-a841-42b6-9eed-b8fdc3ee1a8b"
      },
      "source": [
        "cdf.head()"
      ],
      "execution_count": 28,
      "outputs": [
        {
          "output_type": "execute_result",
          "data": {
            "text/html": [
              "<div>\n",
              "<style scoped>\n",
              "    .dataframe tbody tr th:only-of-type {\n",
              "        vertical-align: middle;\n",
              "    }\n",
              "\n",
              "    .dataframe tbody tr th {\n",
              "        vertical-align: top;\n",
              "    }\n",
              "\n",
              "    .dataframe thead th {\n",
              "        text-align: right;\n",
              "    }\n",
              "</style>\n",
              "<table border=\"1\" class=\"dataframe\">\n",
              "  <thead>\n",
              "    <tr style=\"text-align: right;\">\n",
              "      <th></th>\n",
              "      <th>year</th>\n",
              "      <th>event_type</th>\n",
              "      <th>sub_event_type</th>\n",
              "      <th>actor1</th>\n",
              "      <th>assoc_actor_1</th>\n",
              "      <th>actor2</th>\n",
              "      <th>assoc_actor_2</th>\n",
              "      <th>admin1</th>\n",
              "      <th>admin2</th>\n",
              "      <th>admin3</th>\n",
              "      <th>location</th>\n",
              "      <th>notes</th>\n",
              "      <th>fatalities</th>\n",
              "      <th>violence</th>\n",
              "      <th>month</th>\n",
              "    </tr>\n",
              "  </thead>\n",
              "  <tbody>\n",
              "    <tr>\n",
              "      <th>1</th>\n",
              "      <td>2020</td>\n",
              "      <td>Protests</td>\n",
              "      <td>4575</td>\n",
              "      <td>Protesters (Bangladesh)</td>\n",
              "      <td>NaN</td>\n",
              "      <td>NaN</td>\n",
              "      <td>NaN</td>\n",
              "      <td>Dhaka</td>\n",
              "      <td>4129.0</td>\n",
              "      <td>Dhaka</td>\n",
              "      <td>Dhaka</td>\n",
              "      <td>On 14 November 2020, members of Jatiya Samajta...</td>\n",
              "      <td>0</td>\n",
              "      <td>0.0</td>\n",
              "      <td>11</td>\n",
              "    </tr>\n",
              "    <tr>\n",
              "      <th>2</th>\n",
              "      <td>2020</td>\n",
              "      <td>Riots</td>\n",
              "      <td>4655</td>\n",
              "      <td>Rioters (Bangladesh)</td>\n",
              "      <td>253.0</td>\n",
              "      <td>Police Forces of Bangladesh (2009-)</td>\n",
              "      <td>NaN</td>\n",
              "      <td>Dhaka</td>\n",
              "      <td>382.0</td>\n",
              "      <td>Narayanganj</td>\n",
              "      <td>Siddhirganj</td>\n",
              "      <td>On 14 November 2020, a group of 30 to 40 local...</td>\n",
              "      <td>0</td>\n",
              "      <td>0.0</td>\n",
              "      <td>11</td>\n",
              "    </tr>\n",
              "    <tr>\n",
              "      <th>3</th>\n",
              "      <td>2020</td>\n",
              "      <td>Riots</td>\n",
              "      <td>4655</td>\n",
              "      <td>Rioters (Bangladesh)</td>\n",
              "      <td>875.0</td>\n",
              "      <td>Rioters (Bangladesh)</td>\n",
              "      <td>878.0</td>\n",
              "      <td>Khulna</td>\n",
              "      <td>172.0</td>\n",
              "      <td>Bagerhat</td>\n",
              "      <td>Bagerhat</td>\n",
              "      <td>On 14 November 2020, two factions Awami League...</td>\n",
              "      <td>0</td>\n",
              "      <td>1.0</td>\n",
              "      <td>11</td>\n",
              "    </tr>\n",
              "    <tr>\n",
              "      <th>4</th>\n",
              "      <td>2020</td>\n",
              "      <td>Strategic developments</td>\n",
              "      <td>106</td>\n",
              "      <td>Police Forces of Bangladesh (2009-)</td>\n",
              "      <td>NaN</td>\n",
              "      <td>JeI: Jamaat-e-Islami</td>\n",
              "      <td>NaN</td>\n",
              "      <td>Khulna</td>\n",
              "      <td>258.0</td>\n",
              "      <td>Kushtia</td>\n",
              "      <td>Jhaudia</td>\n",
              "      <td>Arrests: On 14 November 2020, police arrested ...</td>\n",
              "      <td>0</td>\n",
              "      <td>0.0</td>\n",
              "      <td>11</td>\n",
              "    </tr>\n",
              "    <tr>\n",
              "      <th>5</th>\n",
              "      <td>2020</td>\n",
              "      <td>Protests</td>\n",
              "      <td>4575</td>\n",
              "      <td>Protesters (Bangladesh)</td>\n",
              "      <td>NaN</td>\n",
              "      <td>NaN</td>\n",
              "      <td>NaN</td>\n",
              "      <td>Dhaka</td>\n",
              "      <td>4129.0</td>\n",
              "      <td>Dhaka</td>\n",
              "      <td>Dhaka-Paltan</td>\n",
              "      <td>On 13 November 2020, members of Bangladesh Jat...</td>\n",
              "      <td>0</td>\n",
              "      <td>0.0</td>\n",
              "      <td>11</td>\n",
              "    </tr>\n",
              "  </tbody>\n",
              "</table>\n",
              "</div>"
            ],
            "text/plain": [
              "   year              event_type  sub_event_type  ... fatalities  violence month\n",
              "1  2020                Protests            4575  ...          0       0.0    11\n",
              "2  2020                   Riots            4655  ...          0       0.0    11\n",
              "3  2020                   Riots            4655  ...          0       1.0    11\n",
              "4  2020  Strategic developments             106  ...          0       0.0    11\n",
              "5  2020                Protests            4575  ...          0       0.0    11\n",
              "\n",
              "[5 rows x 15 columns]"
            ]
          },
          "metadata": {
            "tags": []
          },
          "execution_count": 28
        }
      ]
    },
    {
      "cell_type": "code",
      "metadata": {
        "id": "Rt715e30MlNU"
      },
      "source": [
        "cdf=cdf.drop(['actor1','actor2','admin3','location','notes'],axis=1)"
      ],
      "execution_count": 29,
      "outputs": []
    },
    {
      "cell_type": "markdown",
      "metadata": {
        "id": "-ySzpOR8ky_r"
      },
      "source": [
        "One-Hot encoding"
      ]
    },
    {
      "cell_type": "code",
      "metadata": {
        "id": "WcXaLaAnEWCH"
      },
      "source": [
        "cdf=pd.get_dummies(cdf,columns=['event_type'],prefix=['event'])"
      ],
      "execution_count": 30,
      "outputs": []
    },
    {
      "cell_type": "code",
      "metadata": {
        "id": "7xjYMXXFFE2J"
      },
      "source": [
        "cdf=pd.get_dummies(cdf,columns=['admin1'],prefix=['div'])"
      ],
      "execution_count": 31,
      "outputs": []
    },
    {
      "cell_type": "code",
      "metadata": {
        "colab": {
          "base_uri": "https://localhost:8080/"
        },
        "id": "Vhk5aNS7FxRH",
        "outputId": "56670bae-e23a-4d55-f9bb-4a05821b5e73"
      },
      "source": [
        "cdf['sub_event_type'].value_counts()"
      ],
      "execution_count": 32,
      "outputs": [
        {
          "output_type": "execute_result",
          "data": {
            "text/plain": [
              "4655    4655\n",
              "4575    4575\n",
              "3192    3192\n",
              "2788    2788\n",
              "1759    1759\n",
              "559      559\n",
              "142      142\n",
              "107      107\n",
              "106      106\n",
              "89        89\n",
              "64        64\n",
              "34        34\n",
              "12        24\n",
              "16        16\n",
              "15        15\n",
              "9          9\n",
              "2          2\n",
              "Name: sub_event_type, dtype: int64"
            ]
          },
          "metadata": {
            "tags": []
          },
          "execution_count": 32
        }
      ]
    },
    {
      "cell_type": "code",
      "metadata": {
        "id": "QG6pnlchKAGx"
      },
      "source": [
        "cdf['year']=cdf['year'].astype(str).astype(int)\n",
        "cdf['fatalities']=cdf['fatalities'].astype(str).astype(int)"
      ],
      "execution_count": 33,
      "outputs": []
    },
    {
      "cell_type": "code",
      "metadata": {
        "id": "0iQEdajGq1o0"
      },
      "source": [
        "cdf['vio']=cdf['violence']\n",
        "cdf=cdf.drop('violence',axis=1)"
      ],
      "execution_count": 34,
      "outputs": []
    },
    {
      "cell_type": "code",
      "metadata": {
        "colab": {
          "base_uri": "https://localhost:8080/"
        },
        "id": "ZdMSoM6ME0ku",
        "outputId": "da6b7bfb-221d-4d49-8a70-eee3f6492b94"
      },
      "source": [
        "cdf.columns"
      ],
      "execution_count": 35,
      "outputs": [
        {
          "output_type": "execute_result",
          "data": {
            "text/plain": [
              "Index(['year', 'sub_event_type', 'assoc_actor_1', 'assoc_actor_2', 'admin2',\n",
              "       'fatalities', 'month', 'event_Battles',\n",
              "       'event_Explosions/Remote violence', 'event_Protests', 'event_Riots',\n",
              "       'event_Strategic developments', 'event_Violence against civilians',\n",
              "       'div_Barisal', 'div_Chittagong', 'div_Dhaka', 'div_Khulna',\n",
              "       'div_Mymensingh', 'div_Rajshahi', 'div_Rangpur', 'div_Sylhet', 'vio'],\n",
              "      dtype='object')"
            ]
          },
          "metadata": {
            "tags": []
          },
          "execution_count": 35
        }
      ]
    },
    {
      "cell_type": "markdown",
      "metadata": {
        "id": "i0p4jQsoiFhF"
      },
      "source": [
        "Neural Network"
      ]
    },
    {
      "cell_type": "code",
      "metadata": {
        "id": "4pn8vAiN38aw"
      },
      "source": [
        "predictor=cdf[['year', 'sub_event_type', 'assoc_actor_1', 'assoc_actor_2', 'admin2',\n",
        "       'fatalities', 'month', 'event_Battles',\n",
        "       'event_Explosions/Remote violence', 'event_Protests', 'event_Riots',\n",
        "       'event_Strategic developments', 'event_Violence against civilians',\n",
        "       'div_Barisal', 'div_Chittagong', 'div_Dhaka', 'div_Khulna',\n",
        "       'div_Mymensingh', 'div_Rajshahi', 'div_Rangpur', 'div_Sylhet']]\n",
        "target=cdf['vio']\n"
      ],
      "execution_count": 36,
      "outputs": []
    },
    {
      "cell_type": "code",
      "metadata": {
        "id": "eNy5UKKSIsHM"
      },
      "source": [
        "predictor.head()\n",
        "#predictors_norm = (predictor - predictor.mean()) / predictors.std()\n",
        "n_col=predictor.shape[1]"
      ],
      "execution_count": 37,
      "outputs": []
    },
    {
      "cell_type": "code",
      "metadata": {
        "id": "dFJOe5s4GH9V"
      },
      "source": [
        "import keras\n",
        "from keras.models import Sequential\n",
        "from keras.layers import Dense"
      ],
      "execution_count": 38,
      "outputs": []
    },
    {
      "cell_type": "code",
      "metadata": {
        "id": "0OdZu-eBGijR"
      },
      "source": [
        "def p_model():\n",
        "  model=Sequential()\n",
        "  model.add(Dense(50,activation='relu',input_shape=(n_col,)))\n",
        "  model.add(Dense(50,activation='relu'))\n",
        "  model.add(Dense(1))\n",
        "\n",
        "  model.compile(optimizer='adam', loss='mean_squared_error', metrics=['accuracy'])\n",
        "  return model"
      ],
      "execution_count": 39,
      "outputs": []
    },
    {
      "cell_type": "code",
      "metadata": {
        "id": "WLjvTRQbJGdv"
      },
      "source": [
        "model=p_model()"
      ],
      "execution_count": 40,
      "outputs": []
    },
    {
      "cell_type": "code",
      "metadata": {
        "colab": {
          "base_uri": "https://localhost:8080/"
        },
        "id": "nfJvDgCJJTj9",
        "outputId": "8e9c4a07-c6f5-4259-92d3-0ed92830c881"
      },
      "source": [
        "model.fit(predictor,target,validation_split=0.3,epochs=100,verbose=1)\n"
      ],
      "execution_count": 41,
      "outputs": [
        {
          "output_type": "stream",
          "text": [
            "Epoch 1/100\n",
            "397/397 [==============================] - 3s 3ms/step - loss: 2210.0054 - accuracy: 0.6700 - val_loss: 0.3654 - val_accuracy: 0.6302\n",
            "Epoch 2/100\n",
            "397/397 [==============================] - 1s 3ms/step - loss: 0.3248 - accuracy: 0.6679 - val_loss: 0.3494 - val_accuracy: 0.6302\n",
            "Epoch 3/100\n",
            "397/397 [==============================] - 1s 3ms/step - loss: 0.3082 - accuracy: 0.6695 - val_loss: 0.3298 - val_accuracy: 0.6302\n",
            "Epoch 4/100\n",
            "397/397 [==============================] - 1s 3ms/step - loss: 0.2928 - accuracy: 0.6669 - val_loss: 0.3090 - val_accuracy: 0.6302\n",
            "Epoch 5/100\n",
            "397/397 [==============================] - 1s 3ms/step - loss: 0.2669 - accuracy: 0.6770 - val_loss: 0.2892 - val_accuracy: 0.6302\n",
            "Epoch 6/100\n",
            "397/397 [==============================] - 1s 3ms/step - loss: 0.2564 - accuracy: 0.6697 - val_loss: 0.2719 - val_accuracy: 0.6302\n",
            "Epoch 7/100\n",
            "397/397 [==============================] - 1s 3ms/step - loss: 0.2457 - accuracy: 0.6655 - val_loss: 0.2581 - val_accuracy: 0.6302\n",
            "Epoch 8/100\n",
            "397/397 [==============================] - 1s 3ms/step - loss: 0.2380 - accuracy: 0.6614 - val_loss: 0.2484 - val_accuracy: 0.6302\n",
            "Epoch 9/100\n",
            "397/397 [==============================] - 1s 3ms/step - loss: 0.2294 - accuracy: 0.6649 - val_loss: 0.2419 - val_accuracy: 0.6302\n",
            "Epoch 10/100\n",
            "397/397 [==============================] - 1s 3ms/step - loss: 0.2242 - accuracy: 0.6683 - val_loss: 0.2382 - val_accuracy: 0.6302\n",
            "Epoch 11/100\n",
            "397/397 [==============================] - 1s 3ms/step - loss: 0.2215 - accuracy: 0.6708 - val_loss: 0.2362 - val_accuracy: 0.6302\n",
            "Epoch 12/100\n",
            "397/397 [==============================] - 1s 3ms/step - loss: 0.2230 - accuracy: 0.6653 - val_loss: 0.2352 - val_accuracy: 0.6302\n",
            "Epoch 13/100\n",
            "397/397 [==============================] - 1s 3ms/step - loss: 0.2208 - accuracy: 0.6710 - val_loss: 0.2347 - val_accuracy: 0.6302\n",
            "Epoch 14/100\n",
            "397/397 [==============================] - 1s 3ms/step - loss: 0.2216 - accuracy: 0.6684 - val_loss: 0.2346 - val_accuracy: 0.6302\n",
            "Epoch 15/100\n",
            "397/397 [==============================] - 1s 3ms/step - loss: 0.2232 - accuracy: 0.6638 - val_loss: 0.2345 - val_accuracy: 0.6302\n",
            "Epoch 16/100\n",
            "397/397 [==============================] - 1s 3ms/step - loss: 0.2205 - accuracy: 0.6718 - val_loss: 0.2344 - val_accuracy: 0.6302\n",
            "Epoch 17/100\n",
            "397/397 [==============================] - 1s 3ms/step - loss: 0.2226 - accuracy: 0.6657 - val_loss: 0.2344 - val_accuracy: 0.6302\n",
            "Epoch 18/100\n",
            "397/397 [==============================] - 1s 3ms/step - loss: 0.2239 - accuracy: 0.6617 - val_loss: 0.2346 - val_accuracy: 0.6302\n",
            "Epoch 19/100\n",
            "397/397 [==============================] - 1s 3ms/step - loss: 0.2217 - accuracy: 0.6684 - val_loss: 0.2344 - val_accuracy: 0.6302\n",
            "Epoch 20/100\n",
            "397/397 [==============================] - 1s 3ms/step - loss: 0.2218 - accuracy: 0.6681 - val_loss: 0.2346 - val_accuracy: 0.6302\n",
            "Epoch 21/100\n",
            "397/397 [==============================] - 1s 3ms/step - loss: 0.2218 - accuracy: 0.6682 - val_loss: 0.2343 - val_accuracy: 0.6302\n",
            "Epoch 22/100\n",
            "397/397 [==============================] - 1s 3ms/step - loss: 0.2215 - accuracy: 0.6690 - val_loss: 0.2342 - val_accuracy: 0.6302\n",
            "Epoch 23/100\n",
            "397/397 [==============================] - 1s 3ms/step - loss: 0.2219 - accuracy: 0.6678 - val_loss: 0.2341 - val_accuracy: 0.6302\n",
            "Epoch 24/100\n",
            "397/397 [==============================] - 1s 3ms/step - loss: 0.2210 - accuracy: 0.6704 - val_loss: 0.2347 - val_accuracy: 0.6302\n",
            "Epoch 25/100\n",
            "397/397 [==============================] - 1s 3ms/step - loss: 0.2225 - accuracy: 0.6660 - val_loss: 0.2342 - val_accuracy: 0.6302\n",
            "Epoch 26/100\n",
            "397/397 [==============================] - 1s 3ms/step - loss: 0.2219 - accuracy: 0.6680 - val_loss: 0.2343 - val_accuracy: 0.6302\n",
            "Epoch 27/100\n",
            "397/397 [==============================] - 1s 3ms/step - loss: 0.2225 - accuracy: 0.6658 - val_loss: 0.2339 - val_accuracy: 0.6302\n",
            "Epoch 28/100\n",
            "397/397 [==============================] - 1s 3ms/step - loss: 0.2243 - accuracy: 0.6604 - val_loss: 0.2347 - val_accuracy: 0.6302\n",
            "Epoch 29/100\n",
            "397/397 [==============================] - 1s 3ms/step - loss: 0.2208 - accuracy: 0.6710 - val_loss: 0.2344 - val_accuracy: 0.6302\n",
            "Epoch 30/100\n",
            "397/397 [==============================] - 1s 3ms/step - loss: 0.2206 - accuracy: 0.6716 - val_loss: 0.2340 - val_accuracy: 0.6302\n",
            "Epoch 31/100\n",
            "397/397 [==============================] - 1s 3ms/step - loss: 0.2227 - accuracy: 0.6652 - val_loss: 0.2344 - val_accuracy: 0.6302\n",
            "Epoch 32/100\n",
            "397/397 [==============================] - 1s 3ms/step - loss: 0.2206 - accuracy: 0.6718 - val_loss: 0.2345 - val_accuracy: 0.6302\n",
            "Epoch 33/100\n",
            "397/397 [==============================] - 1s 3ms/step - loss: 0.2226 - accuracy: 0.6656 - val_loss: 0.2345 - val_accuracy: 0.6302\n",
            "Epoch 34/100\n",
            "397/397 [==============================] - 1s 3ms/step - loss: 0.2205 - accuracy: 0.6718 - val_loss: 0.2349 - val_accuracy: 0.6302\n",
            "Epoch 35/100\n",
            "397/397 [==============================] - 1s 3ms/step - loss: 0.2212 - accuracy: 0.6699 - val_loss: 0.2342 - val_accuracy: 0.6302\n",
            "Epoch 36/100\n",
            "397/397 [==============================] - 1s 3ms/step - loss: 0.2242 - accuracy: 0.6608 - val_loss: 0.2356 - val_accuracy: 0.6302\n",
            "Epoch 37/100\n",
            "397/397 [==============================] - 1s 3ms/step - loss: 0.2239 - accuracy: 0.6623 - val_loss: 0.2342 - val_accuracy: 0.6302\n",
            "Epoch 38/100\n",
            "397/397 [==============================] - 1s 3ms/step - loss: 0.2231 - accuracy: 0.6642 - val_loss: 0.2351 - val_accuracy: 0.6302\n",
            "Epoch 39/100\n",
            "397/397 [==============================] - 1s 3ms/step - loss: 0.2216 - accuracy: 0.6687 - val_loss: 0.2347 - val_accuracy: 0.6302\n",
            "Epoch 40/100\n",
            "397/397 [==============================] - 1s 3ms/step - loss: 0.2221 - accuracy: 0.6674 - val_loss: 0.2345 - val_accuracy: 0.6302\n",
            "Epoch 41/100\n",
            "397/397 [==============================] - 1s 3ms/step - loss: 0.2227 - accuracy: 0.6652 - val_loss: 0.2346 - val_accuracy: 0.6302\n",
            "Epoch 42/100\n",
            "397/397 [==============================] - 1s 3ms/step - loss: 0.2217 - accuracy: 0.6685 - val_loss: 0.2345 - val_accuracy: 0.6302\n",
            "Epoch 43/100\n",
            "397/397 [==============================] - 1s 3ms/step - loss: 0.2247 - accuracy: 0.6593 - val_loss: 0.2349 - val_accuracy: 0.6302\n",
            "Epoch 44/100\n",
            "397/397 [==============================] - 1s 3ms/step - loss: 0.2203 - accuracy: 0.6723 - val_loss: 0.2341 - val_accuracy: 0.6302\n",
            "Epoch 45/100\n",
            "397/397 [==============================] - 1s 3ms/step - loss: 0.2208 - accuracy: 0.6711 - val_loss: 0.2344 - val_accuracy: 0.6302\n",
            "Epoch 46/100\n",
            "397/397 [==============================] - 1s 3ms/step - loss: 0.2237 - accuracy: 0.6624 - val_loss: 0.2349 - val_accuracy: 0.6302\n",
            "Epoch 47/100\n",
            "397/397 [==============================] - 1s 3ms/step - loss: 0.2205 - accuracy: 0.6720 - val_loss: 0.2336 - val_accuracy: 0.6302\n",
            "Epoch 48/100\n",
            "397/397 [==============================] - 1s 3ms/step - loss: 0.2232 - accuracy: 0.6639 - val_loss: 0.2346 - val_accuracy: 0.6302\n",
            "Epoch 49/100\n",
            "397/397 [==============================] - 1s 3ms/step - loss: 0.2196 - accuracy: 0.6746 - val_loss: 0.2344 - val_accuracy: 0.6302\n",
            "Epoch 50/100\n",
            "397/397 [==============================] - 1s 3ms/step - loss: 0.2224 - accuracy: 0.6661 - val_loss: 0.2344 - val_accuracy: 0.6302\n",
            "Epoch 51/100\n",
            "397/397 [==============================] - 1s 3ms/step - loss: 0.2228 - accuracy: 0.6648 - val_loss: 0.2349 - val_accuracy: 0.6302\n",
            "Epoch 52/100\n",
            "397/397 [==============================] - 1s 3ms/step - loss: 0.2224 - accuracy: 0.6662 - val_loss: 0.2359 - val_accuracy: 0.6302\n",
            "Epoch 53/100\n",
            "397/397 [==============================] - 1s 3ms/step - loss: 0.2226 - accuracy: 0.6662 - val_loss: 0.2344 - val_accuracy: 0.6302\n",
            "Epoch 54/100\n",
            "397/397 [==============================] - 1s 3ms/step - loss: 0.2201 - accuracy: 0.6732 - val_loss: 0.2340 - val_accuracy: 0.6302\n",
            "Epoch 55/100\n",
            "397/397 [==============================] - 1s 3ms/step - loss: 0.2223 - accuracy: 0.6666 - val_loss: 0.2343 - val_accuracy: 0.6302\n",
            "Epoch 56/100\n",
            "397/397 [==============================] - 1s 3ms/step - loss: 0.2206 - accuracy: 0.6716 - val_loss: 0.2344 - val_accuracy: 0.6302\n",
            "Epoch 57/100\n",
            "397/397 [==============================] - 1s 3ms/step - loss: 0.2215 - accuracy: 0.6691 - val_loss: 0.2343 - val_accuracy: 0.6302\n",
            "Epoch 58/100\n",
            "397/397 [==============================] - 1s 3ms/step - loss: 0.2240 - accuracy: 0.6615 - val_loss: 0.2351 - val_accuracy: 0.6302\n",
            "Epoch 59/100\n",
            "397/397 [==============================] - 1s 3ms/step - loss: 0.2214 - accuracy: 0.6693 - val_loss: 0.2340 - val_accuracy: 0.6302\n",
            "Epoch 60/100\n",
            "397/397 [==============================] - 1s 3ms/step - loss: 0.2209 - accuracy: 0.6710 - val_loss: 0.2340 - val_accuracy: 0.6302\n",
            "Epoch 61/100\n",
            "397/397 [==============================] - 1s 3ms/step - loss: 0.2202 - accuracy: 0.6729 - val_loss: 0.2343 - val_accuracy: 0.6302\n",
            "Epoch 62/100\n",
            "397/397 [==============================] - 1s 3ms/step - loss: 0.2170 - accuracy: 0.6820 - val_loss: 0.2343 - val_accuracy: 0.6302\n",
            "Epoch 63/100\n",
            "397/397 [==============================] - 1s 3ms/step - loss: 0.2221 - accuracy: 0.6671 - val_loss: 0.2348 - val_accuracy: 0.6302\n",
            "Epoch 64/100\n",
            "397/397 [==============================] - 1s 3ms/step - loss: 0.2225 - accuracy: 0.6660 - val_loss: 0.2347 - val_accuracy: 0.6302\n",
            "Epoch 65/100\n",
            "397/397 [==============================] - 1s 3ms/step - loss: 0.2222 - accuracy: 0.6669 - val_loss: 0.2348 - val_accuracy: 0.6302\n",
            "Epoch 66/100\n",
            "397/397 [==============================] - 1s 3ms/step - loss: 0.2185 - accuracy: 0.6778 - val_loss: 0.2341 - val_accuracy: 0.6302\n",
            "Epoch 67/100\n",
            "397/397 [==============================] - 1s 3ms/step - loss: 0.2234 - accuracy: 0.6630 - val_loss: 0.2342 - val_accuracy: 0.6302\n",
            "Epoch 68/100\n",
            "397/397 [==============================] - 1s 3ms/step - loss: 0.2195 - accuracy: 0.6749 - val_loss: 0.2341 - val_accuracy: 0.6302\n",
            "Epoch 69/100\n",
            "397/397 [==============================] - 1s 3ms/step - loss: 0.2193 - accuracy: 0.6756 - val_loss: 0.2342 - val_accuracy: 0.6302\n",
            "Epoch 70/100\n",
            "397/397 [==============================] - 1s 3ms/step - loss: 0.2200 - accuracy: 0.6733 - val_loss: 0.2338 - val_accuracy: 0.6302\n",
            "Epoch 71/100\n",
            "397/397 [==============================] - 1s 3ms/step - loss: 0.2212 - accuracy: 0.6698 - val_loss: 0.2342 - val_accuracy: 0.6302\n",
            "Epoch 72/100\n",
            "397/397 [==============================] - 1s 3ms/step - loss: 0.2220 - accuracy: 0.6675 - val_loss: 0.2348 - val_accuracy: 0.6302\n",
            "Epoch 73/100\n",
            "397/397 [==============================] - 1s 3ms/step - loss: 0.2230 - accuracy: 0.6647 - val_loss: 0.2350 - val_accuracy: 0.6302\n",
            "Epoch 74/100\n",
            "397/397 [==============================] - 1s 3ms/step - loss: 0.2241 - accuracy: 0.6616 - val_loss: 0.2345 - val_accuracy: 0.6302\n",
            "Epoch 75/100\n",
            "397/397 [==============================] - 1s 3ms/step - loss: 0.2236 - accuracy: 0.6629 - val_loss: 0.2348 - val_accuracy: 0.6302\n",
            "Epoch 76/100\n",
            "397/397 [==============================] - 1s 3ms/step - loss: 0.2211 - accuracy: 0.6700 - val_loss: 0.2347 - val_accuracy: 0.6302\n",
            "Epoch 77/100\n",
            "397/397 [==============================] - 1s 3ms/step - loss: 0.2254 - accuracy: 0.6574 - val_loss: 0.2355 - val_accuracy: 0.6302\n",
            "Epoch 78/100\n",
            "397/397 [==============================] - 1s 3ms/step - loss: 0.2232 - accuracy: 0.6640 - val_loss: 0.2351 - val_accuracy: 0.6302\n",
            "Epoch 79/100\n",
            "397/397 [==============================] - 1s 3ms/step - loss: 0.2212 - accuracy: 0.6698 - val_loss: 0.2348 - val_accuracy: 0.6302\n",
            "Epoch 80/100\n",
            "397/397 [==============================] - 1s 3ms/step - loss: 0.2197 - accuracy: 0.6742 - val_loss: 0.2345 - val_accuracy: 0.6302\n",
            "Epoch 81/100\n",
            "397/397 [==============================] - 1s 3ms/step - loss: 0.2202 - accuracy: 0.6728 - val_loss: 0.2341 - val_accuracy: 0.6302\n",
            "Epoch 82/100\n",
            "397/397 [==============================] - 1s 3ms/step - loss: 0.2231 - accuracy: 0.6642 - val_loss: 0.2349 - val_accuracy: 0.6302\n",
            "Epoch 83/100\n",
            "397/397 [==============================] - 1s 3ms/step - loss: 0.2235 - accuracy: 0.6629 - val_loss: 0.2351 - val_accuracy: 0.6302\n",
            "Epoch 84/100\n",
            "397/397 [==============================] - 1s 3ms/step - loss: 0.2214 - accuracy: 0.6694 - val_loss: 0.2345 - val_accuracy: 0.6302\n",
            "Epoch 85/100\n",
            "397/397 [==============================] - 1s 3ms/step - loss: 0.2194 - accuracy: 0.6751 - val_loss: 0.2340 - val_accuracy: 0.6302\n",
            "Epoch 86/100\n",
            "397/397 [==============================] - 1s 3ms/step - loss: 0.2215 - accuracy: 0.6689 - val_loss: 0.2341 - val_accuracy: 0.6302\n",
            "Epoch 87/100\n",
            "397/397 [==============================] - 1s 3ms/step - loss: 0.2238 - accuracy: 0.6619 - val_loss: 0.2349 - val_accuracy: 0.6302\n",
            "Epoch 88/100\n",
            "397/397 [==============================] - 1s 3ms/step - loss: 0.2217 - accuracy: 0.6684 - val_loss: 0.2352 - val_accuracy: 0.6302\n",
            "Epoch 89/100\n",
            "397/397 [==============================] - 1s 3ms/step - loss: 0.2209 - accuracy: 0.6706 - val_loss: 0.2344 - val_accuracy: 0.6302\n",
            "Epoch 90/100\n",
            "397/397 [==============================] - 1s 3ms/step - loss: 0.2216 - accuracy: 0.6687 - val_loss: 0.2344 - val_accuracy: 0.6302\n",
            "Epoch 91/100\n",
            "397/397 [==============================] - 1s 3ms/step - loss: 0.2232 - accuracy: 0.6639 - val_loss: 0.2350 - val_accuracy: 0.6302\n",
            "Epoch 92/100\n",
            "397/397 [==============================] - 1s 3ms/step - loss: 0.2224 - accuracy: 0.6663 - val_loss: 0.2343 - val_accuracy: 0.6302\n",
            "Epoch 93/100\n",
            "397/397 [==============================] - 1s 3ms/step - loss: 0.2207 - accuracy: 0.6712 - val_loss: 0.2337 - val_accuracy: 0.6302\n",
            "Epoch 94/100\n",
            "397/397 [==============================] - 1s 3ms/step - loss: 0.2192 - accuracy: 0.6760 - val_loss: 0.2340 - val_accuracy: 0.6302\n",
            "Epoch 95/100\n",
            "397/397 [==============================] - 1s 3ms/step - loss: 0.2230 - accuracy: 0.6644 - val_loss: 0.2345 - val_accuracy: 0.6302\n",
            "Epoch 96/100\n",
            "397/397 [==============================] - 1s 3ms/step - loss: 0.2209 - accuracy: 0.6707 - val_loss: 0.2341 - val_accuracy: 0.6302\n",
            "Epoch 97/100\n",
            "397/397 [==============================] - 1s 3ms/step - loss: 0.2235 - accuracy: 0.6628 - val_loss: 0.2345 - val_accuracy: 0.6302\n",
            "Epoch 98/100\n",
            "397/397 [==============================] - 1s 3ms/step - loss: 0.2211 - accuracy: 0.6700 - val_loss: 0.2345 - val_accuracy: 0.6302\n",
            "Epoch 99/100\n",
            "397/397 [==============================] - 1s 3ms/step - loss: 0.2209 - accuracy: 0.6707 - val_loss: 0.2339 - val_accuracy: 0.6302\n",
            "Epoch 100/100\n",
            "397/397 [==============================] - 1s 3ms/step - loss: 0.2248 - accuracy: 0.6589 - val_loss: 0.2346 - val_accuracy: 0.6302\n"
          ],
          "name": "stdout"
        },
        {
          "output_type": "execute_result",
          "data": {
            "text/plain": [
              "<tensorflow.python.keras.callbacks.History at 0x7f68b00173c8>"
            ]
          },
          "metadata": {
            "tags": []
          },
          "execution_count": 41
        }
      ]
    },
    {
      "cell_type": "code",
      "metadata": {
        "id": "y4mozn0UXFuW"
      },
      "source": [
        ""
      ],
      "execution_count": null,
      "outputs": []
    },
    {
      "cell_type": "markdown",
      "metadata": {
        "id": "IZoXEOBSTUxl"
      },
      "source": [
        "Random Forest\n"
      ]
    },
    {
      "cell_type": "code",
      "metadata": {
        "colab": {
          "base_uri": "https://localhost:8080/",
          "height": 473
        },
        "id": "qVe58Cd0ViNP",
        "outputId": "b66601be-f846-48dc-ba8a-58b8adaaba1e"
      },
      "source": [
        "#cdf['vio']=cdf['violence']\n",
        "#cdf=cdf.drop('violence',axis=1)\n",
        "cdf.columns[21]\n",
        "cdf.fillna(0)"
      ],
      "execution_count": 42,
      "outputs": [
        {
          "output_type": "execute_result",
          "data": {
            "text/html": [
              "<div>\n",
              "<style scoped>\n",
              "    .dataframe tbody tr th:only-of-type {\n",
              "        vertical-align: middle;\n",
              "    }\n",
              "\n",
              "    .dataframe tbody tr th {\n",
              "        vertical-align: top;\n",
              "    }\n",
              "\n",
              "    .dataframe thead th {\n",
              "        text-align: right;\n",
              "    }\n",
              "</style>\n",
              "<table border=\"1\" class=\"dataframe\">\n",
              "  <thead>\n",
              "    <tr style=\"text-align: right;\">\n",
              "      <th></th>\n",
              "      <th>year</th>\n",
              "      <th>sub_event_type</th>\n",
              "      <th>assoc_actor_1</th>\n",
              "      <th>assoc_actor_2</th>\n",
              "      <th>admin2</th>\n",
              "      <th>fatalities</th>\n",
              "      <th>month</th>\n",
              "      <th>event_Battles</th>\n",
              "      <th>event_Explosions/Remote violence</th>\n",
              "      <th>event_Protests</th>\n",
              "      <th>event_Riots</th>\n",
              "      <th>event_Strategic developments</th>\n",
              "      <th>event_Violence against civilians</th>\n",
              "      <th>div_Barisal</th>\n",
              "      <th>div_Chittagong</th>\n",
              "      <th>div_Dhaka</th>\n",
              "      <th>div_Khulna</th>\n",
              "      <th>div_Mymensingh</th>\n",
              "      <th>div_Rajshahi</th>\n",
              "      <th>div_Rangpur</th>\n",
              "      <th>div_Sylhet</th>\n",
              "      <th>vio</th>\n",
              "    </tr>\n",
              "  </thead>\n",
              "  <tbody>\n",
              "    <tr>\n",
              "      <th>1</th>\n",
              "      <td>2020</td>\n",
              "      <td>4575</td>\n",
              "      <td>0.0</td>\n",
              "      <td>0.0</td>\n",
              "      <td>4129.0</td>\n",
              "      <td>0</td>\n",
              "      <td>11</td>\n",
              "      <td>0</td>\n",
              "      <td>0</td>\n",
              "      <td>1</td>\n",
              "      <td>0</td>\n",
              "      <td>0</td>\n",
              "      <td>0</td>\n",
              "      <td>0</td>\n",
              "      <td>0</td>\n",
              "      <td>1</td>\n",
              "      <td>0</td>\n",
              "      <td>0</td>\n",
              "      <td>0</td>\n",
              "      <td>0</td>\n",
              "      <td>0</td>\n",
              "      <td>0.0</td>\n",
              "    </tr>\n",
              "    <tr>\n",
              "      <th>2</th>\n",
              "      <td>2020</td>\n",
              "      <td>4655</td>\n",
              "      <td>253.0</td>\n",
              "      <td>0.0</td>\n",
              "      <td>382.0</td>\n",
              "      <td>0</td>\n",
              "      <td>11</td>\n",
              "      <td>0</td>\n",
              "      <td>0</td>\n",
              "      <td>0</td>\n",
              "      <td>1</td>\n",
              "      <td>0</td>\n",
              "      <td>0</td>\n",
              "      <td>0</td>\n",
              "      <td>0</td>\n",
              "      <td>1</td>\n",
              "      <td>0</td>\n",
              "      <td>0</td>\n",
              "      <td>0</td>\n",
              "      <td>0</td>\n",
              "      <td>0</td>\n",
              "      <td>0.0</td>\n",
              "    </tr>\n",
              "    <tr>\n",
              "      <th>3</th>\n",
              "      <td>2020</td>\n",
              "      <td>4655</td>\n",
              "      <td>875.0</td>\n",
              "      <td>878.0</td>\n",
              "      <td>172.0</td>\n",
              "      <td>0</td>\n",
              "      <td>11</td>\n",
              "      <td>0</td>\n",
              "      <td>0</td>\n",
              "      <td>0</td>\n",
              "      <td>1</td>\n",
              "      <td>0</td>\n",
              "      <td>0</td>\n",
              "      <td>0</td>\n",
              "      <td>0</td>\n",
              "      <td>0</td>\n",
              "      <td>1</td>\n",
              "      <td>0</td>\n",
              "      <td>0</td>\n",
              "      <td>0</td>\n",
              "      <td>0</td>\n",
              "      <td>1.0</td>\n",
              "    </tr>\n",
              "    <tr>\n",
              "      <th>4</th>\n",
              "      <td>2020</td>\n",
              "      <td>106</td>\n",
              "      <td>0.0</td>\n",
              "      <td>0.0</td>\n",
              "      <td>258.0</td>\n",
              "      <td>0</td>\n",
              "      <td>11</td>\n",
              "      <td>0</td>\n",
              "      <td>0</td>\n",
              "      <td>0</td>\n",
              "      <td>0</td>\n",
              "      <td>1</td>\n",
              "      <td>0</td>\n",
              "      <td>0</td>\n",
              "      <td>0</td>\n",
              "      <td>0</td>\n",
              "      <td>1</td>\n",
              "      <td>0</td>\n",
              "      <td>0</td>\n",
              "      <td>0</td>\n",
              "      <td>0</td>\n",
              "      <td>0.0</td>\n",
              "    </tr>\n",
              "    <tr>\n",
              "      <th>5</th>\n",
              "      <td>2020</td>\n",
              "      <td>4575</td>\n",
              "      <td>0.0</td>\n",
              "      <td>0.0</td>\n",
              "      <td>4129.0</td>\n",
              "      <td>0</td>\n",
              "      <td>11</td>\n",
              "      <td>0</td>\n",
              "      <td>0</td>\n",
              "      <td>1</td>\n",
              "      <td>0</td>\n",
              "      <td>0</td>\n",
              "      <td>0</td>\n",
              "      <td>0</td>\n",
              "      <td>0</td>\n",
              "      <td>1</td>\n",
              "      <td>0</td>\n",
              "      <td>0</td>\n",
              "      <td>0</td>\n",
              "      <td>0</td>\n",
              "      <td>0</td>\n",
              "      <td>0.0</td>\n",
              "    </tr>\n",
              "    <tr>\n",
              "      <th>...</th>\n",
              "      <td>...</td>\n",
              "      <td>...</td>\n",
              "      <td>...</td>\n",
              "      <td>...</td>\n",
              "      <td>...</td>\n",
              "      <td>...</td>\n",
              "      <td>...</td>\n",
              "      <td>...</td>\n",
              "      <td>...</td>\n",
              "      <td>...</td>\n",
              "      <td>...</td>\n",
              "      <td>...</td>\n",
              "      <td>...</td>\n",
              "      <td>...</td>\n",
              "      <td>...</td>\n",
              "      <td>...</td>\n",
              "      <td>...</td>\n",
              "      <td>...</td>\n",
              "      <td>...</td>\n",
              "      <td>...</td>\n",
              "      <td>...</td>\n",
              "      <td>...</td>\n",
              "    </tr>\n",
              "    <tr>\n",
              "      <th>18132</th>\n",
              "      <td>2010</td>\n",
              "      <td>4655</td>\n",
              "      <td>0.0</td>\n",
              "      <td>67.0</td>\n",
              "      <td>172.0</td>\n",
              "      <td>0</td>\n",
              "      <td>1</td>\n",
              "      <td>0</td>\n",
              "      <td>0</td>\n",
              "      <td>0</td>\n",
              "      <td>1</td>\n",
              "      <td>0</td>\n",
              "      <td>0</td>\n",
              "      <td>0</td>\n",
              "      <td>0</td>\n",
              "      <td>0</td>\n",
              "      <td>1</td>\n",
              "      <td>0</td>\n",
              "      <td>0</td>\n",
              "      <td>0</td>\n",
              "      <td>0</td>\n",
              "      <td>1.0</td>\n",
              "    </tr>\n",
              "    <tr>\n",
              "      <th>18133</th>\n",
              "      <td>2010</td>\n",
              "      <td>4575</td>\n",
              "      <td>290.0</td>\n",
              "      <td>0.0</td>\n",
              "      <td>759.0</td>\n",
              "      <td>0</td>\n",
              "      <td>1</td>\n",
              "      <td>0</td>\n",
              "      <td>0</td>\n",
              "      <td>1</td>\n",
              "      <td>0</td>\n",
              "      <td>0</td>\n",
              "      <td>0</td>\n",
              "      <td>0</td>\n",
              "      <td>0</td>\n",
              "      <td>0</td>\n",
              "      <td>0</td>\n",
              "      <td>0</td>\n",
              "      <td>1</td>\n",
              "      <td>0</td>\n",
              "      <td>0</td>\n",
              "      <td>0.0</td>\n",
              "    </tr>\n",
              "    <tr>\n",
              "      <th>18134</th>\n",
              "      <td>2010</td>\n",
              "      <td>1759</td>\n",
              "      <td>1387.0</td>\n",
              "      <td>290.0</td>\n",
              "      <td>271.0</td>\n",
              "      <td>0</td>\n",
              "      <td>1</td>\n",
              "      <td>1</td>\n",
              "      <td>0</td>\n",
              "      <td>0</td>\n",
              "      <td>0</td>\n",
              "      <td>0</td>\n",
              "      <td>0</td>\n",
              "      <td>0</td>\n",
              "      <td>0</td>\n",
              "      <td>0</td>\n",
              "      <td>0</td>\n",
              "      <td>0</td>\n",
              "      <td>1</td>\n",
              "      <td>0</td>\n",
              "      <td>0</td>\n",
              "      <td>1.0</td>\n",
              "    </tr>\n",
              "    <tr>\n",
              "      <th>18135</th>\n",
              "      <td>2010</td>\n",
              "      <td>559</td>\n",
              "      <td>0.0</td>\n",
              "      <td>878.0</td>\n",
              "      <td>161.0</td>\n",
              "      <td>0</td>\n",
              "      <td>1</td>\n",
              "      <td>0</td>\n",
              "      <td>0</td>\n",
              "      <td>1</td>\n",
              "      <td>0</td>\n",
              "      <td>0</td>\n",
              "      <td>0</td>\n",
              "      <td>1</td>\n",
              "      <td>0</td>\n",
              "      <td>0</td>\n",
              "      <td>0</td>\n",
              "      <td>0</td>\n",
              "      <td>0</td>\n",
              "      <td>0</td>\n",
              "      <td>0</td>\n",
              "      <td>1.0</td>\n",
              "    </tr>\n",
              "    <tr>\n",
              "      <th>18136</th>\n",
              "      <td>2010</td>\n",
              "      <td>1759</td>\n",
              "      <td>0.0</td>\n",
              "      <td>0.0</td>\n",
              "      <td>385.0</td>\n",
              "      <td>0</td>\n",
              "      <td>1</td>\n",
              "      <td>1</td>\n",
              "      <td>0</td>\n",
              "      <td>0</td>\n",
              "      <td>0</td>\n",
              "      <td>0</td>\n",
              "      <td>0</td>\n",
              "      <td>1</td>\n",
              "      <td>0</td>\n",
              "      <td>0</td>\n",
              "      <td>0</td>\n",
              "      <td>0</td>\n",
              "      <td>0</td>\n",
              "      <td>0</td>\n",
              "      <td>0</td>\n",
              "      <td>1.0</td>\n",
              "    </tr>\n",
              "  </tbody>\n",
              "</table>\n",
              "<p>18136 rows × 22 columns</p>\n",
              "</div>"
            ],
            "text/plain": [
              "       year  sub_event_type  assoc_actor_1  ...  div_Rangpur  div_Sylhet  vio\n",
              "1      2020            4575            0.0  ...            0           0  0.0\n",
              "2      2020            4655          253.0  ...            0           0  0.0\n",
              "3      2020            4655          875.0  ...            0           0  1.0\n",
              "4      2020             106            0.0  ...            0           0  0.0\n",
              "5      2020            4575            0.0  ...            0           0  0.0\n",
              "...     ...             ...            ...  ...          ...         ...  ...\n",
              "18132  2010            4655            0.0  ...            0           0  1.0\n",
              "18133  2010            4575          290.0  ...            0           0  0.0\n",
              "18134  2010            1759         1387.0  ...            0           0  1.0\n",
              "18135  2010             559            0.0  ...            0           0  1.0\n",
              "18136  2010            1759            0.0  ...            0           0  1.0\n",
              "\n",
              "[18136 rows x 22 columns]"
            ]
          },
          "metadata": {
            "tags": []
          },
          "execution_count": 42
        }
      ]
    },
    {
      "cell_type": "code",
      "metadata": {
        "id": "ZJkOfvcyTZVL"
      },
      "source": [
        "X=cdf.iloc[:,0:21].values\n",
        "y=cdf.iloc[:,21].values       "
      ],
      "execution_count": 43,
      "outputs": []
    },
    {
      "cell_type": "code",
      "metadata": {
        "id": "CZekQ9JtXGj-"
      },
      "source": [
        "from sklearn.model_selection import train_test_split\n",
        "X_train,X_test,y_train,y_test= train_test_split(X,y,test_size=0.2,random_state=0)"
      ],
      "execution_count": 44,
      "outputs": []
    },
    {
      "cell_type": "code",
      "metadata": {
        "id": "X6xfru5yX31K"
      },
      "source": [
        "#feature scaling\n",
        "from sklearn.preprocessing import StandardScaler\n",
        "sc= StandardScaler()\n",
        "X_train=sc.fit_transform(X_train)\n",
        "X_test=sc.transform(X_test)"
      ],
      "execution_count": 45,
      "outputs": []
    },
    {
      "cell_type": "code",
      "metadata": {
        "id": "cSvJZMREYs_y"
      },
      "source": [
        "from sklearn.ensemble import RandomForestClassifier\n",
        "\n",
        "classifier= RandomForestClassifier(n_estimators=200,random_state=0)\n",
        "X_train=np.nan_to_num(X_train)\n",
        "X_test=np.nan_to_num(X_test)\n",
        "classifier.fit(X_train,y_train)\n",
        "y_pred= classifier.predict(X_test)"
      ],
      "execution_count": 46,
      "outputs": []
    },
    {
      "cell_type": "code",
      "metadata": {
        "colab": {
          "base_uri": "https://localhost:8080/"
        },
        "id": "12BJ-wwHc8Sn",
        "outputId": "7a3266a9-c4c3-4849-8961-4fafac064419"
      },
      "source": [
        "#evalution:\n",
        "\n",
        "from sklearn.metrics import classification_report,confusion_matrix,accuracy_score\n",
        "print(confusion_matrix(y_test,y_pred))\n",
        "print(classification_report(y_test,y_pred))\n",
        "print(accuracy_score(y_test,y_pred))\n",
        "accu=accuracy_score(y_test,y_pred)\n",
        "print('The accuracy of Random Forest Algorithm is: ',accu*100,'%')"
      ],
      "execution_count": 48,
      "outputs": [
        {
          "output_type": "stream",
          "text": [
            "[[1986  395]\n",
            " [ 395  852]]\n",
            "              precision    recall  f1-score   support\n",
            "\n",
            "         0.0       0.83      0.83      0.83      2381\n",
            "         1.0       0.68      0.68      0.68      1247\n",
            "\n",
            "    accuracy                           0.78      3628\n",
            "   macro avg       0.76      0.76      0.76      3628\n",
            "weighted avg       0.78      0.78      0.78      3628\n",
            "\n",
            "0.7822491730981257\n",
            "The accuracy of Random Forest Algorithm is:  78.22491730981257 %\n"
          ],
          "name": "stdout"
        }
      ]
    },
    {
      "cell_type": "code",
      "metadata": {
        "id": "XKhbcVMIDj37"
      },
      "source": [
        ""
      ],
      "execution_count": 48,
      "outputs": []
    },
    {
      "cell_type": "markdown",
      "metadata": {
        "id": "WB6oDs1hDlZA"
      },
      "source": [
        "Neural Network"
      ]
    },
    {
      "cell_type": "code",
      "metadata": {
        "id": "VkOQNH8WEsLP"
      },
      "source": [
        "#cdf.columns"
      ],
      "execution_count": null,
      "outputs": []
    },
    {
      "cell_type": "code",
      "metadata": {
        "colab": {
          "base_uri": "https://localhost:8080/",
          "height": 86
        },
        "id": "q2tZpZGVDsa0",
        "outputId": "b6bf3fe6-cd9f-46dc-f928-d07bc8ef8f4a"
      },
      "source": [
        "'''pra=cdf[['year', 'sub_event_type', 'assoc_actor_1', 'assoc_actor_2', 'admin2',\n",
        "       'fatalities', 'month', 'event_Battles',\n",
        "       'event_Explosions/Remote violence', 'event_Protests', 'event_Riots',\n",
        "       'event_Strategic developments', 'event_Violence against civilians',\n",
        "       'div_Barisal', 'div_Chittagong', 'div_Dhaka', 'div_Khulna',\n",
        "       'div_Mymensingh', 'div_Rajshahi', 'div_Rangpur', 'div_Sylhet']]\n",
        "tar=cdf['vio']'''"
      ],
      "execution_count": null,
      "outputs": [
        {
          "output_type": "execute_result",
          "data": {
            "application/vnd.google.colaboratory.intrinsic+json": {
              "type": "string"
            },
            "text/plain": [
              "\"pra=cdf[['year', 'sub_event_type', 'assoc_actor_1', 'assoc_actor_2', 'admin2',\\n       'fatalities', 'month', 'event_Battles',\\n       'event_Explosions/Remote violence', 'event_Protests', 'event_Riots',\\n       'event_Strategic developments', 'event_Violence against civilians',\\n       'div_Barisal', 'div_Chittagong', 'div_Dhaka', 'div_Khulna',\\n       'div_Mymensingh', 'div_Rajshahi', 'div_Rangpur', 'div_Sylhet']]\\ntar=cdf['vio']\""
            ]
          },
          "metadata": {
            "tags": []
          },
          "execution_count": 91
        }
      ]
    },
    {
      "cell_type": "code",
      "metadata": {
        "id": "pYwjdeeKD-12"
      },
      "source": [
        "#r_train,r_test,p_train,p_test= train_test_split(pra,tar,test_size=0.2,random_state=0)"
      ],
      "execution_count": null,
      "outputs": []
    },
    {
      "cell_type": "code",
      "metadata": {
        "colab": {
          "base_uri": "https://localhost:8080/"
        },
        "id": "l5aJwxzoIB6i",
        "outputId": "98a4addb-9150-4f5f-992b-a03e761bb80c"
      },
      "source": [
        "#num_pixels=r_train.shape[1]\n",
        "#print(num_pixels)"
      ],
      "execution_count": null,
      "outputs": [
        {
          "output_type": "stream",
          "text": [
            "21\n"
          ],
          "name": "stdout"
        }
      ]
    },
    {
      "cell_type": "code",
      "metadata": {
        "id": "1YhERhLMJHiy"
      },
      "source": [
        "#from keras.utils import to_categorical"
      ],
      "execution_count": null,
      "outputs": []
    },
    {
      "cell_type": "code",
      "metadata": {
        "colab": {
          "base_uri": "https://localhost:8080/",
          "height": 35
        },
        "id": "09JLkVFEIwWS",
        "outputId": "36a07c58-7f79-466d-f431-d2ae8a973bd3"
      },
      "source": [
        "'''p_train=to_categorical(p_train)\n",
        "p_test=to_categorical(p_test)\n",
        "\n",
        "num_classes=p_test.shape[1]\n",
        "print(num_classes) '''"
      ],
      "execution_count": null,
      "outputs": [
        {
          "output_type": "execute_result",
          "data": {
            "application/vnd.google.colaboratory.intrinsic+json": {
              "type": "string"
            },
            "text/plain": [
              "'p_train=to_categorical(p_train)\\np_test=to_categorical(p_test)\\n\\nnum_classes=p_test.shape[1]\\nprint(num_classes) '"
            ]
          },
          "metadata": {
            "tags": []
          },
          "execution_count": 92
        }
      ]
    },
    {
      "cell_type": "code",
      "metadata": {
        "id": "z2ci0U2PMEmL"
      },
      "source": [
        "# define classification model\n",
        "''' def classification_mod():\n",
        "    # create model\n",
        "    mod = Sequential()\n",
        "    mod.add(Dense(num_pixels, activation='relu', input_shape=(num_pixels,)))\n",
        "    mod.add(Dense(100, activation='relu'))\n",
        "    mod.add(Dense(num_classes, activation='softmax'))\n",
        "    \n",
        "    \n",
        "    # compile model\n",
        "    mod.compile(optimizer='adam', loss='sparse_categorical_crossentropy', metrics=['accuracy'])\n",
        "    return mod\n",
        "    '''"
      ],
      "execution_count": null,
      "outputs": []
    },
    {
      "cell_type": "code",
      "metadata": {
        "colab": {
          "base_uri": "https://localhost:8080/",
          "height": 52
        },
        "id": "UH80MAMAMF5X",
        "outputId": "f0dc4c2e-618d-4df0-d126-1d94d9816884"
      },
      "source": [
        "# build the model\n",
        "'''mod2 = classification_mod()\n",
        "\n",
        "# fit the model\n",
        "mod2.fit(r_train, p_train, validation_data=(r_test, p_test), epochs=10, verbose=2)\n",
        "\n",
        "# evaluate the model\n",
        "scores = mod2.evaluate(r_test, p_test, verbose=0)\n",
        "'''\n"
      ],
      "execution_count": null,
      "outputs": [
        {
          "output_type": "execute_result",
          "data": {
            "application/vnd.google.colaboratory.intrinsic+json": {
              "type": "string"
            },
            "text/plain": [
              "'mod2 = classification_mod()\\n\\n# fit the model\\nmod2.fit(r_train, p_train, validation_data=(r_test, p_test), epochs=10, verbose=2)\\n\\n# evaluate the model\\nscores = mod2.evaluate(r_test, p_test, verbose=0)\\n'"
            ]
          },
          "metadata": {
            "tags": []
          },
          "execution_count": 93
        }
      ]
    },
    {
      "cell_type": "markdown",
      "metadata": {
        "id": "yr0KZfwQbKTY"
      },
      "source": [
        "\r\n",
        "\r\n",
        "```\r\n",
        "\r\n",
        "```\r\n",
        "\r\n",
        "logistic Regression"
      ]
    },
    {
      "cell_type": "code",
      "metadata": {
        "colab": {
          "base_uri": "https://localhost:8080/",
          "height": 258
        },
        "id": "1Htvn5R9pfQA",
        "outputId": "9e304aea-5528-4e11-87c6-89e5ddd56191"
      },
      "source": [
        "cdf.head()"
      ],
      "execution_count": 49,
      "outputs": [
        {
          "output_type": "execute_result",
          "data": {
            "text/html": [
              "<div>\n",
              "<style scoped>\n",
              "    .dataframe tbody tr th:only-of-type {\n",
              "        vertical-align: middle;\n",
              "    }\n",
              "\n",
              "    .dataframe tbody tr th {\n",
              "        vertical-align: top;\n",
              "    }\n",
              "\n",
              "    .dataframe thead th {\n",
              "        text-align: right;\n",
              "    }\n",
              "</style>\n",
              "<table border=\"1\" class=\"dataframe\">\n",
              "  <thead>\n",
              "    <tr style=\"text-align: right;\">\n",
              "      <th></th>\n",
              "      <th>year</th>\n",
              "      <th>sub_event_type</th>\n",
              "      <th>assoc_actor_1</th>\n",
              "      <th>assoc_actor_2</th>\n",
              "      <th>admin2</th>\n",
              "      <th>fatalities</th>\n",
              "      <th>month</th>\n",
              "      <th>event_Battles</th>\n",
              "      <th>event_Explosions/Remote violence</th>\n",
              "      <th>event_Protests</th>\n",
              "      <th>event_Riots</th>\n",
              "      <th>event_Strategic developments</th>\n",
              "      <th>event_Violence against civilians</th>\n",
              "      <th>div_Barisal</th>\n",
              "      <th>div_Chittagong</th>\n",
              "      <th>div_Dhaka</th>\n",
              "      <th>div_Khulna</th>\n",
              "      <th>div_Mymensingh</th>\n",
              "      <th>div_Rajshahi</th>\n",
              "      <th>div_Rangpur</th>\n",
              "      <th>div_Sylhet</th>\n",
              "      <th>vio</th>\n",
              "    </tr>\n",
              "  </thead>\n",
              "  <tbody>\n",
              "    <tr>\n",
              "      <th>1</th>\n",
              "      <td>2020</td>\n",
              "      <td>4575</td>\n",
              "      <td>NaN</td>\n",
              "      <td>NaN</td>\n",
              "      <td>4129.0</td>\n",
              "      <td>0</td>\n",
              "      <td>11</td>\n",
              "      <td>0</td>\n",
              "      <td>0</td>\n",
              "      <td>1</td>\n",
              "      <td>0</td>\n",
              "      <td>0</td>\n",
              "      <td>0</td>\n",
              "      <td>0</td>\n",
              "      <td>0</td>\n",
              "      <td>1</td>\n",
              "      <td>0</td>\n",
              "      <td>0</td>\n",
              "      <td>0</td>\n",
              "      <td>0</td>\n",
              "      <td>0</td>\n",
              "      <td>0.0</td>\n",
              "    </tr>\n",
              "    <tr>\n",
              "      <th>2</th>\n",
              "      <td>2020</td>\n",
              "      <td>4655</td>\n",
              "      <td>253.0</td>\n",
              "      <td>NaN</td>\n",
              "      <td>382.0</td>\n",
              "      <td>0</td>\n",
              "      <td>11</td>\n",
              "      <td>0</td>\n",
              "      <td>0</td>\n",
              "      <td>0</td>\n",
              "      <td>1</td>\n",
              "      <td>0</td>\n",
              "      <td>0</td>\n",
              "      <td>0</td>\n",
              "      <td>0</td>\n",
              "      <td>1</td>\n",
              "      <td>0</td>\n",
              "      <td>0</td>\n",
              "      <td>0</td>\n",
              "      <td>0</td>\n",
              "      <td>0</td>\n",
              "      <td>0.0</td>\n",
              "    </tr>\n",
              "    <tr>\n",
              "      <th>3</th>\n",
              "      <td>2020</td>\n",
              "      <td>4655</td>\n",
              "      <td>875.0</td>\n",
              "      <td>878.0</td>\n",
              "      <td>172.0</td>\n",
              "      <td>0</td>\n",
              "      <td>11</td>\n",
              "      <td>0</td>\n",
              "      <td>0</td>\n",
              "      <td>0</td>\n",
              "      <td>1</td>\n",
              "      <td>0</td>\n",
              "      <td>0</td>\n",
              "      <td>0</td>\n",
              "      <td>0</td>\n",
              "      <td>0</td>\n",
              "      <td>1</td>\n",
              "      <td>0</td>\n",
              "      <td>0</td>\n",
              "      <td>0</td>\n",
              "      <td>0</td>\n",
              "      <td>1.0</td>\n",
              "    </tr>\n",
              "    <tr>\n",
              "      <th>4</th>\n",
              "      <td>2020</td>\n",
              "      <td>106</td>\n",
              "      <td>NaN</td>\n",
              "      <td>NaN</td>\n",
              "      <td>258.0</td>\n",
              "      <td>0</td>\n",
              "      <td>11</td>\n",
              "      <td>0</td>\n",
              "      <td>0</td>\n",
              "      <td>0</td>\n",
              "      <td>0</td>\n",
              "      <td>1</td>\n",
              "      <td>0</td>\n",
              "      <td>0</td>\n",
              "      <td>0</td>\n",
              "      <td>0</td>\n",
              "      <td>1</td>\n",
              "      <td>0</td>\n",
              "      <td>0</td>\n",
              "      <td>0</td>\n",
              "      <td>0</td>\n",
              "      <td>0.0</td>\n",
              "    </tr>\n",
              "    <tr>\n",
              "      <th>5</th>\n",
              "      <td>2020</td>\n",
              "      <td>4575</td>\n",
              "      <td>NaN</td>\n",
              "      <td>NaN</td>\n",
              "      <td>4129.0</td>\n",
              "      <td>0</td>\n",
              "      <td>11</td>\n",
              "      <td>0</td>\n",
              "      <td>0</td>\n",
              "      <td>1</td>\n",
              "      <td>0</td>\n",
              "      <td>0</td>\n",
              "      <td>0</td>\n",
              "      <td>0</td>\n",
              "      <td>0</td>\n",
              "      <td>1</td>\n",
              "      <td>0</td>\n",
              "      <td>0</td>\n",
              "      <td>0</td>\n",
              "      <td>0</td>\n",
              "      <td>0</td>\n",
              "      <td>0.0</td>\n",
              "    </tr>\n",
              "  </tbody>\n",
              "</table>\n",
              "</div>"
            ],
            "text/plain": [
              "   year  sub_event_type  assoc_actor_1  ...  div_Rangpur  div_Sylhet  vio\n",
              "1  2020            4575            NaN  ...            0           0  0.0\n",
              "2  2020            4655          253.0  ...            0           0  0.0\n",
              "3  2020            4655          875.0  ...            0           0  1.0\n",
              "4  2020             106            NaN  ...            0           0  0.0\n",
              "5  2020            4575            NaN  ...            0           0  0.0\n",
              "\n",
              "[5 rows x 22 columns]"
            ]
          },
          "metadata": {
            "tags": []
          },
          "execution_count": 49
        }
      ]
    },
    {
      "cell_type": "code",
      "metadata": {
        "colab": {
          "base_uri": "https://localhost:8080/"
        },
        "id": "3HMpj5cqp2rt",
        "outputId": "421ef345-ced2-423b-db3a-bd7272e345b1"
      },
      "source": [
        "cdf.shape"
      ],
      "execution_count": 50,
      "outputs": [
        {
          "output_type": "execute_result",
          "data": {
            "text/plain": [
              "(18136, 22)"
            ]
          },
          "metadata": {
            "tags": []
          },
          "execution_count": 50
        }
      ]
    },
    {
      "cell_type": "code",
      "metadata": {
        "id": "xkqPDve8p2wl"
      },
      "source": [
        "dep=cdf['vio'].values\n",
        "ind=cdf.drop('vio',axis=1).values"
      ],
      "execution_count": 51,
      "outputs": []
    },
    {
      "cell_type": "code",
      "metadata": {
        "colab": {
          "base_uri": "https://localhost:8080/"
        },
        "id": "56xpWkWMqpXb",
        "outputId": "bb6eb4cf-f8db-4950-cf3e-0ad9b3757963"
      },
      "source": [
        "ind_train,ind_test,dep_train,dep_test=train_test_split(ind,dep,test_size=0.3,random_state=42)\n",
        "ind_train.shape,ind_test.shape"
      ],
      "execution_count": 52,
      "outputs": [
        {
          "output_type": "execute_result",
          "data": {
            "text/plain": [
              "((12695, 21), (5441, 21))"
            ]
          },
          "metadata": {
            "tags": []
          },
          "execution_count": 52
        }
      ]
    },
    {
      "cell_type": "code",
      "metadata": {
        "id": "oEpQqYVHqpjG"
      },
      "source": [
        "from sklearn.linear_model import LogisticRegression "
      ],
      "execution_count": 53,
      "outputs": []
    },
    {
      "cell_type": "code",
      "metadata": {
        "colab": {
          "base_uri": "https://localhost:8080/"
        },
        "id": "XrxI2sTEqpyN",
        "outputId": "5c47ab64-cae5-4420-cdd8-17ccd2ca43cf"
      },
      "source": [
        "logi= LogisticRegression()\n",
        "ind_train=np.nan_to_num(ind_train)\n",
        "ind_test=np.nan_to_num(ind_test)\n",
        "logi.fit(ind_train,dep_train)"
      ],
      "execution_count": 54,
      "outputs": [
        {
          "output_type": "stream",
          "text": [
            "/usr/local/lib/python3.6/dist-packages/sklearn/linear_model/_logistic.py:940: ConvergenceWarning: lbfgs failed to converge (status=1):\n",
            "STOP: TOTAL NO. of ITERATIONS REACHED LIMIT.\n",
            "\n",
            "Increase the number of iterations (max_iter) or scale the data as shown in:\n",
            "    https://scikit-learn.org/stable/modules/preprocessing.html\n",
            "Please also refer to the documentation for alternative solver options:\n",
            "    https://scikit-learn.org/stable/modules/linear_model.html#logistic-regression\n",
            "  extra_warning_msg=_LOGISTIC_SOLVER_CONVERGENCE_MSG)\n"
          ],
          "name": "stderr"
        },
        {
          "output_type": "execute_result",
          "data": {
            "text/plain": [
              "LogisticRegression(C=1.0, class_weight=None, dual=False, fit_intercept=True,\n",
              "                   intercept_scaling=1, l1_ratio=None, max_iter=100,\n",
              "                   multi_class='auto', n_jobs=None, penalty='l2',\n",
              "                   random_state=None, solver='lbfgs', tol=0.0001, verbose=0,\n",
              "                   warm_start=False)"
            ]
          },
          "metadata": {
            "tags": []
          },
          "execution_count": 54
        }
      ]
    },
    {
      "cell_type": "code",
      "metadata": {
        "colab": {
          "base_uri": "https://localhost:8080/"
        },
        "id": "32MAK4Kks1K5",
        "outputId": "034838f1-3e7e-42e5-a6da-d6aa4108a346"
      },
      "source": [
        "dep_pred=logi.predict(ind_test)\n",
        "print(confusion_matrix(dep_test,dep_pred))\n",
        "print(classification_report(dep_test,dep_pred))\n",
        "print(accuracy_score(dep_test,dep_pred))\n",
        "accu=accuracy_score(dep_test,dep_pred)\n",
        "print('The accuracy of Logistic Regression Algorithm is: ',accu*100,'%')"
      ],
      "execution_count": 55,
      "outputs": [
        {
          "output_type": "stream",
          "text": [
            "[[2816  743]\n",
            " [ 797 1085]]\n",
            "              precision    recall  f1-score   support\n",
            "\n",
            "         0.0       0.78      0.79      0.79      3559\n",
            "         1.0       0.59      0.58      0.58      1882\n",
            "\n",
            "    accuracy                           0.72      5441\n",
            "   macro avg       0.69      0.68      0.69      5441\n",
            "weighted avg       0.72      0.72      0.72      5441\n",
            "\n",
            "0.7169637934203271\n",
            "The accuracy of Logistic Regression Algorithm is:  71.69637934203271 %\n"
          ],
          "name": "stdout"
        }
      ]
    },
    {
      "cell_type": "markdown",
      "metadata": {
        "id": "addOwK0NvB7N"
      },
      "source": [
        "Lasso Regrassion"
      ]
    },
    {
      "cell_type": "code",
      "metadata": {
        "colab": {
          "base_uri": "https://localhost:8080/"
        },
        "id": "rEM14lAXvKS8",
        "outputId": "924d899b-caf1-4ee5-d129-a480c8dd7815"
      },
      "source": [
        "from sklearn.linear_model import Lasso\n",
        "from sklearn.metrics import mean_squared_error\n",
        "from sklearn.metrics import r2_score\n",
        "\n",
        "model_lasso = Lasso(alpha=0.01)\n",
        "model_lasso.fit(ind_train, dep_train) \n",
        "pred_train_lasso= model_lasso.predict(ind_train)\n",
        "print(np.sqrt(mean_squared_error(dep_train,pred_train_lasso)))\n",
        "print(r2_score(dep_train, pred_train_lasso))\n",
        "\n",
        "pred_test_lasso= model_lasso.predict(ind_test)\n",
        "print(np.sqrt(mean_squared_error(dep_test,pred_test_lasso))) \n",
        "print(r2_score(dep_test, pred_test_lasso))"
      ],
      "execution_count": 56,
      "outputs": [
        {
          "output_type": "stream",
          "text": [
            "0.42202071912188854\n",
            "0.2088538836366033\n",
            "0.420766101337112\n",
            "0.2174874118532566\n"
          ],
          "name": "stdout"
        }
      ]
    }
  ]
}